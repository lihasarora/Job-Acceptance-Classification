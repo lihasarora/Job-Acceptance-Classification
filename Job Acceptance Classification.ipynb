{
 "cells": [
  {
   "cell_type": "markdown",
   "metadata": {},
   "source": [
    "The dataset hr_data.csv contains samples of candidates that were part of a recruitment process of a particular client of ScaleneWorks. ScaleneWorks supports several information technology (IT) companieswith their talent acquisition. \n",
    "\n",
    "One of the challenge they face is about 30% of the candidates who  accept the jobs offer, do not join the company. This leads to huge loss of revenue and time as the companies initiate the recruitment process again to fill the workforce demand. ScaleneWorks wants to find out  if a model can be built to predict the likelihood of a candidate not joining the company. If the likelihood is  high, then the company will not offer the jobs to the candidates.\n"
   ]
  },
  {
   "cell_type": "markdown",
   "metadata": {},
   "source": [
    "# Import the liabraries "
   ]
  },
  {
   "cell_type": "code",
   "execution_count": 1,
   "metadata": {
    "id": "OOlhp_5huEmn"
   },
   "outputs": [],
   "source": [
    "import numpy as np\n",
    "import matplotlib.pyplot as plt\n",
    "import seaborn as sn\n",
    "import pandas as pd\n",
    "from sklearn import preprocessing\n",
    "pd.set_option('display.max_columns', None)\n",
    "\n",
    "from IPython.core.interactiveshell import InteractiveShell\n",
    "InteractiveShell.ast_node_interactivity = \"all\"\n",
    "\n",
    "## Train test split function\n",
    "from sklearn.model_selection import train_test_split\n",
    "\n",
    "## Importing the liabrary to run the regression model\n",
    "import statsmodels.api as sm\n",
    "\n",
    "## Importing the liabrary to view the diagnostic summaries of the model\n",
    "import sklearn.metrics as metrics\n",
    "\n",
    "\n",
    "from sklearn.linear_model import LogisticRegression\n",
    "from sklearn import metrics\n",
    "from sklearn.model_selection import cross_val_score\n",
    "\n",
    "from sklearn.metrics import roc_auc_score, classification_report, confusion_matrix"
   ]
  },
  {
   "cell_type": "code",
   "execution_count": 3,
   "metadata": {
    "colab": {
     "base_uri": "https://localhost:8080/"
    },
    "id": "QXH3FgKsukM-",
    "outputId": "24896b90-19fa-4bf8-b2e6-e2d1a340dadf"
   },
   "outputs": [
    {
     "data": {
      "text/html": [
       "<div>\n",
       "<style scoped>\n",
       "    .dataframe tbody tr th:only-of-type {\n",
       "        vertical-align: middle;\n",
       "    }\n",
       "\n",
       "    .dataframe tbody tr th {\n",
       "        vertical-align: top;\n",
       "    }\n",
       "\n",
       "    .dataframe thead th {\n",
       "        text-align: right;\n",
       "    }\n",
       "</style>\n",
       "<table border=\"1\" class=\"dataframe\">\n",
       "  <thead>\n",
       "    <tr style=\"text-align: right;\">\n",
       "      <th></th>\n",
       "      <th>SLNO</th>\n",
       "      <th>Candidate Ref</th>\n",
       "      <th>DOJ Extended</th>\n",
       "      <th>Duration to accept offer</th>\n",
       "      <th>Notice period</th>\n",
       "      <th>Offered band</th>\n",
       "      <th>Pecent hike expected in CTC</th>\n",
       "      <th>Percent hike offered in CTC</th>\n",
       "      <th>Percent difference CTC</th>\n",
       "      <th>Joining Bonus</th>\n",
       "      <th>Candidate relocate actual</th>\n",
       "      <th>Gender</th>\n",
       "      <th>Candidate Source</th>\n",
       "      <th>Rex in Yrs</th>\n",
       "      <th>LOB</th>\n",
       "      <th>Location Enc</th>\n",
       "      <th>Age</th>\n",
       "      <th>Status</th>\n",
       "    </tr>\n",
       "  </thead>\n",
       "  <tbody>\n",
       "    <tr>\n",
       "      <th>0</th>\n",
       "      <td>1</td>\n",
       "      <td>2110407</td>\n",
       "      <td>Yes</td>\n",
       "      <td>14</td>\n",
       "      <td>30</td>\n",
       "      <td>E2</td>\n",
       "      <td>-20.79</td>\n",
       "      <td>13.16</td>\n",
       "      <td>42.86</td>\n",
       "      <td>No</td>\n",
       "      <td>No</td>\n",
       "      <td>Female</td>\n",
       "      <td>Agency</td>\n",
       "      <td>7</td>\n",
       "      <td>ERS</td>\n",
       "      <td>A</td>\n",
       "      <td>34</td>\n",
       "      <td>Joined</td>\n",
       "    </tr>\n",
       "    <tr>\n",
       "      <th>1</th>\n",
       "      <td>2</td>\n",
       "      <td>2112635</td>\n",
       "      <td>No</td>\n",
       "      <td>18</td>\n",
       "      <td>30</td>\n",
       "      <td>E2</td>\n",
       "      <td>50.00</td>\n",
       "      <td>320.00</td>\n",
       "      <td>180.00</td>\n",
       "      <td>No</td>\n",
       "      <td>No</td>\n",
       "      <td>Male</td>\n",
       "      <td>Employee Referral</td>\n",
       "      <td>8</td>\n",
       "      <td>INFRA</td>\n",
       "      <td>B</td>\n",
       "      <td>34</td>\n",
       "      <td>Joined</td>\n",
       "    </tr>\n",
       "    <tr>\n",
       "      <th>2</th>\n",
       "      <td>3</td>\n",
       "      <td>2112838</td>\n",
       "      <td>No</td>\n",
       "      <td>3</td>\n",
       "      <td>45</td>\n",
       "      <td>E2</td>\n",
       "      <td>42.84</td>\n",
       "      <td>42.84</td>\n",
       "      <td>0.00</td>\n",
       "      <td>No</td>\n",
       "      <td>No</td>\n",
       "      <td>Male</td>\n",
       "      <td>Agency</td>\n",
       "      <td>4</td>\n",
       "      <td>INFRA</td>\n",
       "      <td>A</td>\n",
       "      <td>27</td>\n",
       "      <td>Joined</td>\n",
       "    </tr>\n",
       "    <tr>\n",
       "      <th>3</th>\n",
       "      <td>4</td>\n",
       "      <td>2115021</td>\n",
       "      <td>No</td>\n",
       "      <td>26</td>\n",
       "      <td>30</td>\n",
       "      <td>E2</td>\n",
       "      <td>42.84</td>\n",
       "      <td>42.84</td>\n",
       "      <td>0.00</td>\n",
       "      <td>No</td>\n",
       "      <td>No</td>\n",
       "      <td>Male</td>\n",
       "      <td>Employee Referral</td>\n",
       "      <td>4</td>\n",
       "      <td>INFRA</td>\n",
       "      <td>A</td>\n",
       "      <td>34</td>\n",
       "      <td>Joined</td>\n",
       "    </tr>\n",
       "    <tr>\n",
       "      <th>4</th>\n",
       "      <td>5</td>\n",
       "      <td>2115125</td>\n",
       "      <td>Yes</td>\n",
       "      <td>1</td>\n",
       "      <td>120</td>\n",
       "      <td>E2</td>\n",
       "      <td>42.59</td>\n",
       "      <td>42.59</td>\n",
       "      <td>0.00</td>\n",
       "      <td>No</td>\n",
       "      <td>Yes</td>\n",
       "      <td>Male</td>\n",
       "      <td>Employee Referral</td>\n",
       "      <td>6</td>\n",
       "      <td>INFRA</td>\n",
       "      <td>A</td>\n",
       "      <td>34</td>\n",
       "      <td>Joined</td>\n",
       "    </tr>\n",
       "    <tr>\n",
       "      <th>5</th>\n",
       "      <td>6</td>\n",
       "      <td>2117167</td>\n",
       "      <td>Yes</td>\n",
       "      <td>17</td>\n",
       "      <td>30</td>\n",
       "      <td>E1</td>\n",
       "      <td>42.83</td>\n",
       "      <td>42.83</td>\n",
       "      <td>0.00</td>\n",
       "      <td>No</td>\n",
       "      <td>No</td>\n",
       "      <td>Male</td>\n",
       "      <td>Employee Referral</td>\n",
       "      <td>2</td>\n",
       "      <td>INFRA</td>\n",
       "      <td>A</td>\n",
       "      <td>34</td>\n",
       "      <td>Joined</td>\n",
       "    </tr>\n",
       "    <tr>\n",
       "      <th>6</th>\n",
       "      <td>7</td>\n",
       "      <td>2119124</td>\n",
       "      <td>Yes</td>\n",
       "      <td>37</td>\n",
       "      <td>30</td>\n",
       "      <td>E2</td>\n",
       "      <td>31.58</td>\n",
       "      <td>31.58</td>\n",
       "      <td>0.00</td>\n",
       "      <td>No</td>\n",
       "      <td>No</td>\n",
       "      <td>Male</td>\n",
       "      <td>Employee Referral</td>\n",
       "      <td>7</td>\n",
       "      <td>INFRA</td>\n",
       "      <td>A</td>\n",
       "      <td>32</td>\n",
       "      <td>Joined</td>\n",
       "    </tr>\n",
       "    <tr>\n",
       "      <th>7</th>\n",
       "      <td>9</td>\n",
       "      <td>2127572</td>\n",
       "      <td>Yes</td>\n",
       "      <td>16</td>\n",
       "      <td>0</td>\n",
       "      <td>E1</td>\n",
       "      <td>-20.00</td>\n",
       "      <td>-20.00</td>\n",
       "      <td>0.00</td>\n",
       "      <td>No</td>\n",
       "      <td>No</td>\n",
       "      <td>Female</td>\n",
       "      <td>Direct</td>\n",
       "      <td>8</td>\n",
       "      <td>Healthcare</td>\n",
       "      <td>A</td>\n",
       "      <td>34</td>\n",
       "      <td>Joined</td>\n",
       "    </tr>\n",
       "    <tr>\n",
       "      <th>8</th>\n",
       "      <td>11</td>\n",
       "      <td>2138169</td>\n",
       "      <td>No</td>\n",
       "      <td>1</td>\n",
       "      <td>30</td>\n",
       "      <td>E1</td>\n",
       "      <td>-22.22</td>\n",
       "      <td>-22.22</td>\n",
       "      <td>0.00</td>\n",
       "      <td>No</td>\n",
       "      <td>No</td>\n",
       "      <td>Female</td>\n",
       "      <td>Employee Referral</td>\n",
       "      <td>3</td>\n",
       "      <td>BFSI</td>\n",
       "      <td>C</td>\n",
       "      <td>26</td>\n",
       "      <td>Joined</td>\n",
       "    </tr>\n",
       "    <tr>\n",
       "      <th>9</th>\n",
       "      <td>12</td>\n",
       "      <td>2143362</td>\n",
       "      <td>No</td>\n",
       "      <td>6</td>\n",
       "      <td>30</td>\n",
       "      <td>E1</td>\n",
       "      <td>240.00</td>\n",
       "      <td>220.00</td>\n",
       "      <td>-5.88</td>\n",
       "      <td>No</td>\n",
       "      <td>No</td>\n",
       "      <td>Male</td>\n",
       "      <td>Employee Referral</td>\n",
       "      <td>3</td>\n",
       "      <td>CSMP</td>\n",
       "      <td>B</td>\n",
       "      <td>34</td>\n",
       "      <td>Joined</td>\n",
       "    </tr>\n",
       "  </tbody>\n",
       "</table>\n",
       "</div>"
      ],
      "text/plain": [
       "   SLNO  Candidate Ref DOJ Extended  Duration to accept offer  Notice period  \\\n",
       "0     1        2110407          Yes                        14             30   \n",
       "1     2        2112635           No                        18             30   \n",
       "2     3        2112838           No                         3             45   \n",
       "3     4        2115021           No                        26             30   \n",
       "4     5        2115125          Yes                         1            120   \n",
       "5     6        2117167          Yes                        17             30   \n",
       "6     7        2119124          Yes                        37             30   \n",
       "7     9        2127572          Yes                        16              0   \n",
       "8    11        2138169           No                         1             30   \n",
       "9    12        2143362           No                         6             30   \n",
       "\n",
       "  Offered band  Pecent hike expected in CTC  Percent hike offered in CTC  \\\n",
       "0           E2                       -20.79                        13.16   \n",
       "1           E2                        50.00                       320.00   \n",
       "2           E2                        42.84                        42.84   \n",
       "3           E2                        42.84                        42.84   \n",
       "4           E2                        42.59                        42.59   \n",
       "5           E1                        42.83                        42.83   \n",
       "6           E2                        31.58                        31.58   \n",
       "7           E1                       -20.00                       -20.00   \n",
       "8           E1                       -22.22                       -22.22   \n",
       "9           E1                       240.00                       220.00   \n",
       "\n",
       "   Percent difference CTC Joining Bonus Candidate relocate actual  Gender  \\\n",
       "0                   42.86            No                        No  Female   \n",
       "1                  180.00            No                        No    Male   \n",
       "2                    0.00            No                        No    Male   \n",
       "3                    0.00            No                        No    Male   \n",
       "4                    0.00            No                       Yes    Male   \n",
       "5                    0.00            No                        No    Male   \n",
       "6                    0.00            No                        No    Male   \n",
       "7                    0.00            No                        No  Female   \n",
       "8                    0.00            No                        No  Female   \n",
       "9                   -5.88            No                        No    Male   \n",
       "\n",
       "    Candidate Source  Rex in Yrs         LOB Location Enc  Age  Status  \n",
       "0             Agency           7         ERS            A   34  Joined  \n",
       "1  Employee Referral           8       INFRA            B   34  Joined  \n",
       "2             Agency           4       INFRA            A   27  Joined  \n",
       "3  Employee Referral           4       INFRA            A   34  Joined  \n",
       "4  Employee Referral           6       INFRA            A   34  Joined  \n",
       "5  Employee Referral           2       INFRA            A   34  Joined  \n",
       "6  Employee Referral           7       INFRA            A   32  Joined  \n",
       "7             Direct           8  Healthcare            A   34  Joined  \n",
       "8  Employee Referral           3        BFSI            C   26  Joined  \n",
       "9  Employee Referral           3        CSMP            B   34  Joined  "
      ]
     },
     "execution_count": 3,
     "metadata": {},
     "output_type": "execute_result"
    },
    {
     "data": {
      "text/plain": [
       "(8995, 18)"
      ]
     },
     "execution_count": 3,
     "metadata": {},
     "output_type": "execute_result"
    }
   ],
   "source": [
    "df = pd.read_csv('C:\\\\Users\\\\arora\\\\Documents\\\\UT\\\\Introduction to Machine Learning\\\\Group Project\\\\Raw Data Group Project.csv')\n",
    "df.head(10)\n",
    "df.shape\n",
    "df_exploration = df"
   ]
  },
  {
   "cell_type": "code",
   "execution_count": 4,
   "metadata": {
    "scrolled": true
   },
   "outputs": [
    {
     "data": {
      "text/plain": [
       "SLNO                             int64\n",
       "Candidate Ref                    int64\n",
       "DOJ Extended                    object\n",
       "Duration to accept offer         int64\n",
       "Notice period                    int64\n",
       "Offered band                    object\n",
       "Pecent hike expected in CTC    float64\n",
       "Percent hike offered in CTC    float64\n",
       "Percent difference CTC         float64\n",
       "Joining Bonus                   object\n",
       "Candidate relocate actual       object\n",
       "Gender                          object\n",
       "Candidate Source                object\n",
       "Rex in Yrs                       int64\n",
       "LOB                             object\n",
       "Location Enc                    object\n",
       "Age                              int64\n",
       "Status                          object\n",
       "dtype: object"
      ]
     },
     "execution_count": 4,
     "metadata": {},
     "output_type": "execute_result"
    }
   ],
   "source": [
    "df.dtypes"
   ]
  },
  {
   "cell_type": "markdown",
   "metadata": {},
   "source": [
    "Datatype for all the variables looks consitent with the understanding. "
   ]
  },
  {
   "cell_type": "markdown",
   "metadata": {},
   "source": [
    "Checking if there are any missing values in the data"
   ]
  },
  {
   "cell_type": "code",
   "execution_count": 5,
   "metadata": {},
   "outputs": [
    {
     "data": {
      "text/plain": [
       "SLNO                           0\n",
       "Candidate Ref                  0\n",
       "DOJ Extended                   0\n",
       "Duration to accept offer       0\n",
       "Notice period                  0\n",
       "Offered band                   0\n",
       "Pecent hike expected in CTC    0\n",
       "Percent hike offered in CTC    0\n",
       "Percent difference CTC         0\n",
       "Joining Bonus                  0\n",
       "Candidate relocate actual      0\n",
       "Gender                         0\n",
       "Candidate Source               0\n",
       "Rex in Yrs                     0\n",
       "LOB                            0\n",
       "Location Enc                   0\n",
       "Age                            0\n",
       "Status                         0\n",
       "dtype: int64"
      ]
     },
     "execution_count": 5,
     "metadata": {},
     "output_type": "execute_result"
    }
   ],
   "source": [
    "df.isna().apply(sum, axis = 0)"
   ]
  },
  {
   "cell_type": "markdown",
   "metadata": {},
   "source": [
    "Data seems to be clean with no missing values in any column"
   ]
  },
  {
   "cell_type": "markdown",
   "metadata": {},
   "source": [
    "Some Folks expected a decrease in CTC. Lets see how many of these folks are"
   ]
  },
  {
   "cell_type": "code",
   "execution_count": 6,
   "metadata": {},
   "outputs": [
    {
     "data": {
      "text/plain": [
       "(140, 18)"
      ]
     },
     "execution_count": 6,
     "metadata": {},
     "output_type": "execute_result"
    }
   ],
   "source": [
    "df.loc[df['Pecent hike expected in CTC']<0].shape"
   ]
  },
  {
   "cell_type": "code",
   "execution_count": 7,
   "metadata": {},
   "outputs": [
    {
     "data": {
      "text/plain": [
       "Index(['SLNO', 'Candidate Ref', 'DOJ Extended', 'Duration to accept offer',\n",
       "       'Notice period', 'Offered band', 'Pecent hike expected in CTC',\n",
       "       'Percent hike offered in CTC', 'Percent difference CTC',\n",
       "       'Joining Bonus', 'Candidate relocate actual', 'Gender',\n",
       "       'Candidate Source', 'Rex in Yrs', 'LOB', 'Location Enc', 'Age',\n",
       "       'Status'],\n",
       "      dtype='object')"
      ]
     },
     "execution_count": 7,
     "metadata": {},
     "output_type": "execute_result"
    }
   ],
   "source": [
    "df.columns"
   ]
  },
  {
   "cell_type": "code",
   "execution_count": 8,
   "metadata": {},
   "outputs": [
    {
     "data": {
      "text/plain": [
       "<AxesSubplot:xlabel='Rex in Yrs', ylabel='Density'>"
      ]
     },
     "execution_count": 8,
     "metadata": {},
     "output_type": "execute_result"
    },
    {
     "data": {
      "text/plain": [
       "<AxesSubplot:xlabel='Rex in Yrs', ylabel='Density'>"
      ]
     },
     "execution_count": 8,
     "metadata": {},
     "output_type": "execute_result"
    },
    {
     "data": {
      "text/plain": [
       "<matplotlib.legend.Legend at 0x1f43780ab80>"
      ]
     },
     "execution_count": 8,
     "metadata": {},
     "output_type": "execute_result"
    },
    {
     "data": {
      "image/png": "[encoded data removed]",
      "text/plain": [
       "<Figure size 432x288 with 1 Axes>"
      ]
     },
     "metadata": {
      "needs_background": "light"
     },
     "output_type": "display_data"
    }
   ],
   "source": [
    "## One obvious thing that comes to mind is baby they are trying to switch industries, and have relatively lower\n",
    "## work experience. So, they are willing to take a paycut as well. Lets assess how true is it. \n",
    "sn.kdeplot(df.loc[df['Pecent hike expected in CTC']<0].loc[:,'Rex in Yrs'], label = 'Negative Hike Expected')\n",
    "sn.kdeplot(df.loc[df['Pecent hike expected in CTC']>0].loc[:,'Rex in Yrs'], label = 'Positive Hike Expected')\n",
    "plt.legend()\n",
    "\n",
    "## Doesn't seem to be very different for bot the cases. Let's leave them as is since their quantum is very low"
   ]
  },
  {
   "cell_type": "markdown",
   "metadata": {},
   "source": [
    "We are interested in finding the probability people who will not join the team. Lets check if our dataset has sufficient data to predict it. i.e. we want to ensure that the class is balanced. "
   ]
  },
  {
   "cell_type": "code",
   "execution_count": 9,
   "metadata": {
    "scrolled": true
   },
   "outputs": [
    {
     "data": {
      "text/plain": [
       "Joined        0.813007\n",
       "Not Joined    0.186993\n",
       "Name: Status, dtype: float64"
      ]
     },
     "execution_count": 9,
     "metadata": {},
     "output_type": "execute_result"
    },
    {
     "data": {
      "text/plain": [
       "Joined        7313\n",
       "Not Joined    1682\n",
       "Name: Status, dtype: int64"
      ]
     },
     "execution_count": 9,
     "metadata": {},
     "output_type": "execute_result"
    }
   ],
   "source": [
    "df['Status'].value_counts(normalize = True)\n",
    "df['Status'].value_counts()"
   ]
  },
  {
   "cell_type": "markdown",
   "metadata": {},
   "source": [
    "~20% of the data belongs to not joined. The class is not very imbalanced and can be worked upon as is. We can add a patch later to see if oversampling from this field adds value or not. "
   ]
  },
  {
   "cell_type": "markdown",
   "metadata": {},
   "source": [
    "## Encoding the variables"
   ]
  },
  {
   "cell_type": "code",
   "execution_count": 10,
   "metadata": {
    "colab": {
     "base_uri": "https://localhost:8080/"
    },
    "id": "No_LhAoyuyb1",
    "outputId": "ec11f944-6a33-4dd3-e653-c5bab7c3afb2",
    "scrolled": true
   },
   "outputs": [
    {
     "data": {
      "text/html": [
       "<div>\n",
       "<style scoped>\n",
       "    .dataframe tbody tr th:only-of-type {\n",
       "        vertical-align: middle;\n",
       "    }\n",
       "\n",
       "    .dataframe tbody tr th {\n",
       "        vertical-align: top;\n",
       "    }\n",
       "\n",
       "    .dataframe thead th {\n",
       "        text-align: right;\n",
       "    }\n",
       "</style>\n",
       "<table border=\"1\" class=\"dataframe\">\n",
       "  <thead>\n",
       "    <tr style=\"text-align: right;\">\n",
       "      <th></th>\n",
       "      <th>DOJ Extended</th>\n",
       "      <th>Duration to accept offer</th>\n",
       "      <th>Notice period</th>\n",
       "      <th>Pecent hike expected in CTC</th>\n",
       "      <th>Percent hike offered in CTC</th>\n",
       "      <th>Percent difference CTC</th>\n",
       "      <th>Joining Bonus</th>\n",
       "      <th>Candidate relocate actual</th>\n",
       "      <th>Gender</th>\n",
       "      <th>Rex in Yrs</th>\n",
       "      <th>Age</th>\n",
       "      <th>Status</th>\n",
       "      <th>Offered band_E1</th>\n",
       "      <th>Offered band_E2</th>\n",
       "      <th>Offered band_E3</th>\n",
       "      <th>Candidate Source_Direct</th>\n",
       "      <th>Candidate Source_Employee Referral</th>\n",
       "      <th>LOB_BFSI</th>\n",
       "      <th>LOB_CSMP</th>\n",
       "      <th>LOB_EAS</th>\n",
       "      <th>LOB_ERS</th>\n",
       "      <th>LOB_ETS</th>\n",
       "      <th>LOB_Healthcare</th>\n",
       "      <th>LOB_INFRA</th>\n",
       "      <th>LOB_MMS</th>\n",
       "      <th>Location Enc_B</th>\n",
       "      <th>Location Enc_C</th>\n",
       "      <th>Location Enc_D</th>\n",
       "      <th>Location Enc_E</th>\n",
       "      <th>Location Enc_F</th>\n",
       "      <th>Location Enc_G</th>\n",
       "      <th>Location Enc_H</th>\n",
       "      <th>Location Enc_I</th>\n",
       "      <th>Location Enc_J</th>\n",
       "      <th>Location Enc_K</th>\n",
       "    </tr>\n",
       "  </thead>\n",
       "  <tbody>\n",
       "    <tr>\n",
       "      <th>0</th>\n",
       "      <td>0</td>\n",
       "      <td>0.062500</td>\n",
       "      <td>0.250</td>\n",
       "      <td>0.112086</td>\n",
       "      <td>0.138525</td>\n",
       "      <td>0.299861</td>\n",
       "      <td>0</td>\n",
       "      <td>0</td>\n",
       "      <td>0</td>\n",
       "      <td>0.291667</td>\n",
       "      <td>0.350</td>\n",
       "      <td>0</td>\n",
       "      <td>0</td>\n",
       "      <td>1</td>\n",
       "      <td>0</td>\n",
       "      <td>0</td>\n",
       "      <td>0</td>\n",
       "      <td>0</td>\n",
       "      <td>0</td>\n",
       "      <td>0</td>\n",
       "      <td>1</td>\n",
       "      <td>0</td>\n",
       "      <td>0</td>\n",
       "      <td>0</td>\n",
       "      <td>0</td>\n",
       "      <td>0</td>\n",
       "      <td>0</td>\n",
       "      <td>0</td>\n",
       "      <td>0</td>\n",
       "      <td>0</td>\n",
       "      <td>0</td>\n",
       "      <td>0</td>\n",
       "      <td>0</td>\n",
       "      <td>0</td>\n",
       "      <td>0</td>\n",
       "    </tr>\n",
       "    <tr>\n",
       "      <th>1</th>\n",
       "      <td>1</td>\n",
       "      <td>0.080357</td>\n",
       "      <td>0.250</td>\n",
       "      <td>0.277252</td>\n",
       "      <td>0.715336</td>\n",
       "      <td>0.673265</td>\n",
       "      <td>0</td>\n",
       "      <td>0</td>\n",
       "      <td>1</td>\n",
       "      <td>0.333333</td>\n",
       "      <td>0.350</td>\n",
       "      <td>0</td>\n",
       "      <td>0</td>\n",
       "      <td>1</td>\n",
       "      <td>0</td>\n",
       "      <td>0</td>\n",
       "      <td>1</td>\n",
       "      <td>0</td>\n",
       "      <td>0</td>\n",
       "      <td>0</td>\n",
       "      <td>0</td>\n",
       "      <td>0</td>\n",
       "      <td>0</td>\n",
       "      <td>1</td>\n",
       "      <td>0</td>\n",
       "      <td>1</td>\n",
       "      <td>0</td>\n",
       "      <td>0</td>\n",
       "      <td>0</td>\n",
       "      <td>0</td>\n",
       "      <td>0</td>\n",
       "      <td>0</td>\n",
       "      <td>0</td>\n",
       "      <td>0</td>\n",
       "      <td>0</td>\n",
       "    </tr>\n",
       "    <tr>\n",
       "      <th>2</th>\n",
       "      <td>1</td>\n",
       "      <td>0.013393</td>\n",
       "      <td>0.375</td>\n",
       "      <td>0.260546</td>\n",
       "      <td>0.194319</td>\n",
       "      <td>0.183162</td>\n",
       "      <td>0</td>\n",
       "      <td>0</td>\n",
       "      <td>1</td>\n",
       "      <td>0.166667</td>\n",
       "      <td>0.175</td>\n",
       "      <td>0</td>\n",
       "      <td>0</td>\n",
       "      <td>1</td>\n",
       "      <td>0</td>\n",
       "      <td>0</td>\n",
       "      <td>0</td>\n",
       "      <td>0</td>\n",
       "      <td>0</td>\n",
       "      <td>0</td>\n",
       "      <td>0</td>\n",
       "      <td>0</td>\n",
       "      <td>0</td>\n",
       "      <td>1</td>\n",
       "      <td>0</td>\n",
       "      <td>0</td>\n",
       "      <td>0</td>\n",
       "      <td>0</td>\n",
       "      <td>0</td>\n",
       "      <td>0</td>\n",
       "      <td>0</td>\n",
       "      <td>0</td>\n",
       "      <td>0</td>\n",
       "      <td>0</td>\n",
       "      <td>0</td>\n",
       "    </tr>\n",
       "    <tr>\n",
       "      <th>3</th>\n",
       "      <td>1</td>\n",
       "      <td>0.116071</td>\n",
       "      <td>0.250</td>\n",
       "      <td>0.260546</td>\n",
       "      <td>0.194319</td>\n",
       "      <td>0.183162</td>\n",
       "      <td>0</td>\n",
       "      <td>0</td>\n",
       "      <td>1</td>\n",
       "      <td>0.166667</td>\n",
       "      <td>0.350</td>\n",
       "      <td>0</td>\n",
       "      <td>0</td>\n",
       "      <td>1</td>\n",
       "      <td>0</td>\n",
       "      <td>0</td>\n",
       "      <td>1</td>\n",
       "      <td>0</td>\n",
       "      <td>0</td>\n",
       "      <td>0</td>\n",
       "      <td>0</td>\n",
       "      <td>0</td>\n",
       "      <td>0</td>\n",
       "      <td>1</td>\n",
       "      <td>0</td>\n",
       "      <td>0</td>\n",
       "      <td>0</td>\n",
       "      <td>0</td>\n",
       "      <td>0</td>\n",
       "      <td>0</td>\n",
       "      <td>0</td>\n",
       "      <td>0</td>\n",
       "      <td>0</td>\n",
       "      <td>0</td>\n",
       "      <td>0</td>\n",
       "    </tr>\n",
       "    <tr>\n",
       "      <th>4</th>\n",
       "      <td>0</td>\n",
       "      <td>0.004464</td>\n",
       "      <td>1.000</td>\n",
       "      <td>0.259963</td>\n",
       "      <td>0.193849</td>\n",
       "      <td>0.183162</td>\n",
       "      <td>0</td>\n",
       "      <td>1</td>\n",
       "      <td>1</td>\n",
       "      <td>0.250000</td>\n",
       "      <td>0.350</td>\n",
       "      <td>0</td>\n",
       "      <td>0</td>\n",
       "      <td>1</td>\n",
       "      <td>0</td>\n",
       "      <td>0</td>\n",
       "      <td>1</td>\n",
       "      <td>0</td>\n",
       "      <td>0</td>\n",
       "      <td>0</td>\n",
       "      <td>0</td>\n",
       "      <td>0</td>\n",
       "      <td>0</td>\n",
       "      <td>1</td>\n",
       "      <td>0</td>\n",
       "      <td>0</td>\n",
       "      <td>0</td>\n",
       "      <td>0</td>\n",
       "      <td>0</td>\n",
       "      <td>0</td>\n",
       "      <td>0</td>\n",
       "      <td>0</td>\n",
       "      <td>0</td>\n",
       "      <td>0</td>\n",
       "      <td>0</td>\n",
       "    </tr>\n",
       "  </tbody>\n",
       "</table>\n",
       "</div>"
      ],
      "text/plain": [
       "   DOJ Extended  Duration to accept offer  Notice period  \\\n",
       "0             0                  0.062500          0.250   \n",
       "1             1                  0.080357          0.250   \n",
       "2             1                  0.013393          0.375   \n",
       "3             1                  0.116071          0.250   \n",
       "4             0                  0.004464          1.000   \n",
       "\n",
       "   Pecent hike expected in CTC  Percent hike offered in CTC  \\\n",
       "0                     0.112086                     0.138525   \n",
       "1                     0.277252                     0.715336   \n",
       "2                     0.260546                     0.194319   \n",
       "3                     0.260546                     0.194319   \n",
       "4                     0.259963                     0.193849   \n",
       "\n",
       "   Percent difference CTC  Joining Bonus  Candidate relocate actual  Gender  \\\n",
       "0                0.299861              0                          0       0   \n",
       "1                0.673265              0                          0       1   \n",
       "2                0.183162              0                          0       1   \n",
       "3                0.183162              0                          0       1   \n",
       "4                0.183162              0                          1       1   \n",
       "\n",
       "   Rex in Yrs    Age  Status  Offered band_E1  Offered band_E2  \\\n",
       "0    0.291667  0.350       0                0                1   \n",
       "1    0.333333  0.350       0                0                1   \n",
       "2    0.166667  0.175       0                0                1   \n",
       "3    0.166667  0.350       0                0                1   \n",
       "4    0.250000  0.350       0                0                1   \n",
       "\n",
       "   Offered band_E3  Candidate Source_Direct  \\\n",
       "0                0                        0   \n",
       "1                0                        0   \n",
       "2                0                        0   \n",
       "3                0                        0   \n",
       "4                0                        0   \n",
       "\n",
       "   Candidate Source_Employee Referral  LOB_BFSI  LOB_CSMP  LOB_EAS  LOB_ERS  \\\n",
       "0                                   0         0         0        0        1   \n",
       "1                                   1         0         0        0        0   \n",
       "2                                   0         0         0        0        0   \n",
       "3                                   1         0         0        0        0   \n",
       "4                                   1         0         0        0        0   \n",
       "\n",
       "   LOB_ETS  LOB_Healthcare  LOB_INFRA  LOB_MMS  Location Enc_B  \\\n",
       "0        0               0          0        0               0   \n",
       "1        0               0          1        0               1   \n",
       "2        0               0          1        0               0   \n",
       "3        0               0          1        0               0   \n",
       "4        0               0          1        0               0   \n",
       "\n",
       "   Location Enc_C  Location Enc_D  Location Enc_E  Location Enc_F  \\\n",
       "0               0               0               0               0   \n",
       "1               0               0               0               0   \n",
       "2               0               0               0               0   \n",
       "3               0               0               0               0   \n",
       "4               0               0               0               0   \n",
       "\n",
       "   Location Enc_G  Location Enc_H  Location Enc_I  Location Enc_J  \\\n",
       "0               0               0               0               0   \n",
       "1               0               0               0               0   \n",
       "2               0               0               0               0   \n",
       "3               0               0               0               0   \n",
       "4               0               0               0               0   \n",
       "\n",
       "   Location Enc_K  \n",
       "0               0  \n",
       "1               0  \n",
       "2               0  \n",
       "3               0  \n",
       "4               0  "
      ]
     },
     "execution_count": 10,
     "metadata": {},
     "output_type": "execute_result"
    },
    {
     "data": {
      "text/plain": [
       "(8995, 35)"
      ]
     },
     "execution_count": 10,
     "metadata": {},
     "output_type": "execute_result"
    }
   ],
   "source": [
    "# Data cleaning\n",
    "\n",
    "#SLNO is just the index, which pandas automatically has. Cadidate Ref is \n",
    "# catagorical, but has hundreds of possible values, and would drown out our other features if one-hot-encoded\n",
    "\n",
    "df = df.drop(labels = ['SLNO', 'Candidate Ref'], axis=1)\n",
    "\n",
    "# Convert binary values to 0 and 1\n",
    "def convert_to_binary(column):\n",
    "  unique_vals = column.unique()\n",
    "  if len(unique_vals) != 2: #this function is only for columns with 2 possible values\n",
    "    print('This column has more than 2 values')\n",
    "    return column\n",
    "  encoded_vals = []\n",
    "  for val in column:\n",
    "    if val == unique_vals[0]:\n",
    "      encoded_vals.append(0)\n",
    "    elif val == unique_vals[1]:\n",
    "      encoded_vals.append(1)\n",
    "    else:\n",
    "      print('Something went wrong')\n",
    "      return column #should never happen\n",
    "  return pd.Series(encoded_vals)\n",
    "\n",
    "columns_to_convert_to_binary = ['Gender', 'DOJ Extended', 'Joining Bonus', 'Candidate relocate actual','Status']\n",
    "for col in columns_to_convert_to_binary:\n",
    "  df[col] = convert_to_binary(df[col])\n",
    "\n",
    "\n",
    "# Standardize numerical values\n",
    "def standardize_column(column):\n",
    "  return (column-column.min())/(column.max()-column.min())\n",
    "\n",
    "# not all numerical values should be standardized, some should be transformed in other ways, come back to this\n",
    "columns_to_standardize = ['Duration to accept offer', 'Notice period', 'Pecent hike expected in CTC', 'Percent hike offered in CTC', 'Percent difference CTC', 'Rex in Yrs', 'Age']\n",
    "for col in columns_to_standardize:\n",
    "  df[col] = standardize_column(df[col])\n",
    "\n",
    "\n",
    "# One hot encode categorical columns\n",
    "categorical_columns = ['Offered band', 'Candidate Source', 'LOB', 'Location Enc']\n",
    "for col in categorical_columns:\n",
    "  encoded = pd.get_dummies(df[col],prefix = str(col), drop_first=True)\n",
    "  df = df.join(encoded)\n",
    "  df = df.drop(col, axis=1)\n",
    "df.head(5)\n",
    "df.shape"
   ]
  },
  {
   "cell_type": "code",
   "execution_count": 12,
   "metadata": {},
   "outputs": [
    {
     "data": {
      "text/plain": [
       "Status                                1.000000\n",
       "Notice period                         0.192119\n",
       "Duration to accept offer              0.065446\n",
       "LOB_BFSI                              0.059813\n",
       "LOB_ERS                               0.049698\n",
       "Location Enc_D                        0.046887\n",
       "Location Enc_B                        0.044812\n",
       "LOB_EAS                               0.040475\n",
       "Rex in Yrs                            0.037716\n",
       "Location Enc_E                        0.016774\n",
       "Gender                                0.012851\n",
       "Location Enc_F                        0.011698\n",
       "DOJ Extended                          0.006102\n",
       "Offered band_E2                       0.005631\n",
       "Joining Bonus                         0.004101\n",
       "Location Enc_H                        0.004009\n",
       "Location Enc_C                        0.001577\n",
       "Pecent hike expected in CTC           0.000290\n",
       "Offered band_E1                      -0.000103\n",
       "Location Enc_K                       -0.001347\n",
       "LOB_CSMP                             -0.001474\n",
       "LOB_Healthcare                       -0.002903\n",
       "Location Enc_G                       -0.004744\n",
       "LOB_ETS                              -0.013075\n",
       "Location Enc_I                       -0.018245\n",
       "Candidate Source_Direct              -0.019291\n",
       "LOB_MMS                              -0.019601\n",
       "Offered band_E3                      -0.024068\n",
       "Percent hike offered in CTC          -0.027514\n",
       "Location Enc_J                       -0.030853\n",
       "Percent difference CTC               -0.033151\n",
       "Age                                  -0.046270\n",
       "Candidate Source_Employee Referral   -0.080253\n",
       "LOB_INFRA                            -0.113335\n",
       "Candidate relocate actual            -0.196234\n",
       "dtype: float64"
      ]
     },
     "execution_count": 12,
     "metadata": {},
     "output_type": "execute_result"
    }
   ],
   "source": [
    "x= df.corrwith(df['Status']).sort_values(ascending = False)\n",
    "x"
   ]
  },
  {
   "cell_type": "markdown",
   "metadata": {},
   "source": [
    "From correlation, there does not seem to be a highly +/- relationship with either variable.  "
   ]
  },
  {
   "cell_type": "markdown",
   "metadata": {},
   "source": [
    "Let's explore the data  to assess any differentiation"
   ]
  },
  {
   "cell_type": "markdown",
   "metadata": {},
   "source": [
    "### Gender "
   ]
  },
  {
   "cell_type": "markdown",
   "metadata": {},
   "source": [
    "We can see that our dataset has ~80% male and 20% female data"
   ]
  },
  {
   "cell_type": "code",
   "execution_count": 13,
   "metadata": {},
   "outputs": [
    {
     "data": {
      "text/plain": [
       "<AxesSubplot:>"
      ]
     },
     "execution_count": 13,
     "metadata": {},
     "output_type": "execute_result"
    },
    {
     "data": {
      "image/png": "[encoded data removed]",
      "text/plain": [
       "<Figure size 432x288 with 1 Axes>"
      ]
     },
     "metadata": {
      "needs_background": "light"
     },
     "output_type": "display_data"
    }
   ],
   "source": [
    "df_exploration['Gender'].value_counts(normalize = True).plot(kind = 'bar')"
   ]
  },
  {
   "cell_type": "markdown",
   "metadata": {},
   "source": [
    "### Joining Bonus"
   ]
  },
  {
   "cell_type": "markdown",
   "metadata": {},
   "source": [
    "~8% of people in the dataset were offered a joining bonus"
   ]
  },
  {
   "cell_type": "code",
   "execution_count": 14,
   "metadata": {},
   "outputs": [
    {
     "data": {
      "text/plain": [
       "<AxesSubplot:>"
      ]
     },
     "execution_count": 14,
     "metadata": {},
     "output_type": "execute_result"
    },
    {
     "data": {
      "image/png": "[encoded data removed]",
      "text/plain": [
       "<Figure size 432x288 with 1 Axes>"
      ]
     },
     "metadata": {
      "needs_background": "light"
     },
     "output_type": "display_data"
    }
   ],
   "source": [
    "df_exploration['Joining Bonus'].value_counts(normalize = True).plot(kind = 'bar')"
   ]
  },
  {
   "cell_type": "markdown",
   "metadata": {},
   "source": [
    "### Candidate Relocation"
   ]
  },
  {
   "cell_type": "markdown",
   "metadata": {},
   "source": [
    "~12% of candidates had to relocate to join. This indicates that the data has more local candidates who were offered the job "
   ]
  },
  {
   "cell_type": "code",
   "execution_count": 15,
   "metadata": {},
   "outputs": [
    {
     "data": {
      "text/plain": [
       "<AxesSubplot:>"
      ]
     },
     "execution_count": 15,
     "metadata": {},
     "output_type": "execute_result"
    },
    {
     "data": {
      "image/png": "[encoded data removed]",
      "text/plain": [
       "<Figure size 432x288 with 1 Axes>"
      ]
     },
     "metadata": {
      "needs_background": "light"
     },
     "output_type": "display_data"
    }
   ],
   "source": [
    "df_exploration['Candidate relocate actual'].value_counts(normalize = True).plot(kind = 'bar')"
   ]
  },
  {
   "cell_type": "markdown",
   "metadata": {},
   "source": [
    "### Source"
   ]
  },
  {
   "cell_type": "markdown",
   "metadata": {},
   "source": [
    "More than 50% of candidates that are rolled out offers belong to direct channel "
   ]
  },
  {
   "cell_type": "code",
   "execution_count": 16,
   "metadata": {},
   "outputs": [
    {
     "data": {
      "text/plain": [
       "<AxesSubplot:>"
      ]
     },
     "execution_count": 16,
     "metadata": {},
     "output_type": "execute_result"
    },
    {
     "data": {
      "image/png": "[encoded data removed]",
      "text/plain": [
       "<Figure size 432x288 with 1 Axes>"
      ]
     },
     "metadata": {
      "needs_background": "light"
     },
     "output_type": "display_data"
    }
   ],
   "source": [
    "df_exploration['Candidate Source'].value_counts(normalize = True).plot(kind = 'bar')"
   ]
  },
  {
   "cell_type": "markdown",
   "metadata": {},
   "source": [
    "### Location"
   ]
  },
  {
   "cell_type": "markdown",
   "metadata": {},
   "source": [
    "~90% of the offers are rolled out for three cities --> B,A, and D "
   ]
  },
  {
   "cell_type": "code",
   "execution_count": 17,
   "metadata": {},
   "outputs": [
    {
     "data": {
      "text/plain": [
       "<AxesSubplot:>"
      ]
     },
     "execution_count": 17,
     "metadata": {},
     "output_type": "execute_result"
    },
    {
     "data": {
      "image/png": "[encoded data removed]",
      "text/plain": [
       "<Figure size 432x288 with 1 Axes>"
      ]
     },
     "metadata": {
      "needs_background": "light"
     },
     "output_type": "display_data"
    }
   ],
   "source": [
    "df_exploration['Location Enc'].value_counts(normalize = True).plot(kind = 'bar')"
   ]
  },
  {
   "cell_type": "markdown",
   "metadata": {},
   "source": [
    "## Let's look at their interation with the variable of interest"
   ]
  },
  {
   "cell_type": "code",
   "execution_count": 18,
   "metadata": {
    "scrolled": false
   },
   "outputs": [
    {
     "data": {
      "text/plain": [
       "<Figure size 720x576 with 0 Axes>"
      ]
     },
     "execution_count": 18,
     "metadata": {},
     "output_type": "execute_result"
    },
    {
     "data": {
      "text/plain": [
       "<AxesSubplot:xlabel='Gender'>"
      ]
     },
     "execution_count": 18,
     "metadata": {},
     "output_type": "execute_result"
    },
    {
     "data": {
      "text/plain": [
       "<Figure size 720x576 with 0 Axes>"
      ]
     },
     "execution_count": 18,
     "metadata": {},
     "output_type": "execute_result"
    },
    {
     "data": {
      "text/plain": [
       "<AxesSubplot:xlabel='DOJ Extended'>"
      ]
     },
     "execution_count": 18,
     "metadata": {},
     "output_type": "execute_result"
    },
    {
     "data": {
      "text/plain": [
       "<Figure size 720x576 with 0 Axes>"
      ]
     },
     "execution_count": 18,
     "metadata": {},
     "output_type": "execute_result"
    },
    {
     "data": {
      "text/plain": [
       "<AxesSubplot:xlabel='Joining Bonus'>"
      ]
     },
     "execution_count": 18,
     "metadata": {},
     "output_type": "execute_result"
    },
    {
     "data": {
      "text/plain": [
       "<Figure size 720x576 with 0 Axes>"
      ]
     },
     "execution_count": 18,
     "metadata": {},
     "output_type": "execute_result"
    },
    {
     "data": {
      "text/plain": [
       "<AxesSubplot:xlabel='Candidate relocate actual'>"
      ]
     },
     "execution_count": 18,
     "metadata": {},
     "output_type": "execute_result"
    },
    {
     "data": {
      "text/plain": [
       "<Figure size 720x576 with 0 Axes>"
      ]
     },
     "execution_count": 18,
     "metadata": {},
     "output_type": "execute_result"
    },
    {
     "data": {
      "text/plain": [
       "<AxesSubplot:xlabel='Offered band'>"
      ]
     },
     "execution_count": 18,
     "metadata": {},
     "output_type": "execute_result"
    },
    {
     "data": {
      "text/plain": [
       "<Figure size 720x576 with 0 Axes>"
      ]
     },
     "execution_count": 18,
     "metadata": {},
     "output_type": "execute_result"
    },
    {
     "data": {
      "text/plain": [
       "<AxesSubplot:xlabel='Candidate Source'>"
      ]
     },
     "execution_count": 18,
     "metadata": {},
     "output_type": "execute_result"
    },
    {
     "data": {
      "text/plain": [
       "<Figure size 720x576 with 0 Axes>"
      ]
     },
     "execution_count": 18,
     "metadata": {},
     "output_type": "execute_result"
    },
    {
     "data": {
      "text/plain": [
       "<AxesSubplot:xlabel='LOB'>"
      ]
     },
     "execution_count": 18,
     "metadata": {},
     "output_type": "execute_result"
    },
    {
     "data": {
      "text/plain": [
       "<Figure size 720x576 with 0 Axes>"
      ]
     },
     "execution_count": 18,
     "metadata": {},
     "output_type": "execute_result"
    },
    {
     "data": {
      "text/plain": [
       "<AxesSubplot:xlabel='Location Enc'>"
      ]
     },
     "execution_count": 18,
     "metadata": {},
     "output_type": "execute_result"
    },
    {
     "data": {
      "text/plain": [
       "<Figure size 720x576 with 0 Axes>"
      ]
     },
     "metadata": {},
     "output_type": "display_data"
    },
    {
     "data": {
      "image/png": "[encoded data removed]",
      "text/plain": [
       "<Figure size 432x288 with 1 Axes>"
      ]
     },
     "metadata": {
      "needs_background": "light"
     },
     "output_type": "display_data"
    },
    {
     "data": {
      "text/plain": [
       "<Figure size 720x576 with 0 Axes>"
      ]
     },
     "metadata": {},
     "output_type": "display_data"
    },
    {
     "data": {
      "image/png": "[encoded data removed]",
      "text/plain": [
       "<Figure size 432x288 with 1 Axes>"
      ]
     },
     "metadata": {
      "needs_background": "light"
     },
     "output_type": "display_data"
    },
    {
     "data": {
      "text/plain": [
       "<Figure size 720x576 with 0 Axes>"
      ]
     },
     "metadata": {},
     "output_type": "display_data"
    },
    {
     "data": {
      "image/png": "[encoded data removed]",
      "text/plain": [
       "<Figure size 432x288 with 1 Axes>"
      ]
     },
     "metadata": {
      "needs_background": "light"
     },
     "output_type": "display_data"
    },
    {
     "data": {
      "text/plain": [
       "<Figure size 720x576 with 0 Axes>"
      ]
     },
     "metadata": {},
     "output_type": "display_data"
    },
    {
     "data": {
      "image/png": "[encoded data removed]",
      "text/plain": [
       "<Figure size 432x288 with 1 Axes>"
      ]
     },
     "metadata": {
      "needs_background": "light"
     },
     "output_type": "display_data"
    },
    {
     "data": {
      "text/plain": [
       "<Figure size 720x576 with 0 Axes>"
      ]
     },
     "metadata": {},
     "output_type": "display_data"
    },
    {
     "data": {
      "image/png": "[encoded data removed]",
      "text/plain": [
       "<Figure size 432x288 with 1 Axes>"
      ]
     },
     "metadata": {
      "needs_background": "light"
     },
     "output_type": "display_data"
    },
    {
     "data": {
      "text/plain": [
       "<Figure size 720x576 with 0 Axes>"
      ]
     },
     "metadata": {},
     "output_type": "display_data"
    },
    {
     "data": {
      "image/png": "[encoded data removed]",
      "text/plain": [
       "<Figure size 432x288 with 1 Axes>"
      ]
     },
     "metadata": {
      "needs_background": "light"
     },
     "output_type": "display_data"
    },
    {
     "data": {
      "text/plain": [
       "<Figure size 720x576 with 0 Axes>"
      ]
     },
     "metadata": {},
     "output_type": "display_data"
    },
    {
     "data": {
      "image/png": "[encoded data removed]",
      "text/plain": [
       "<Figure size 432x288 with 1 Axes>"
      ]
     },
     "metadata": {
      "needs_background": "light"
     },
     "output_type": "display_data"
    },
    {
     "data": {
      "text/plain": [
       "<Figure size 720x576 with 0 Axes>"
      ]
     },
     "metadata": {},
     "output_type": "display_data"
    },
    {
     "data": {
      "image/png": "[encoded data removed]",
      "text/plain": [
       "<Figure size 432x288 with 1 Axes>"
      ]
     },
     "metadata": {
      "needs_background": "light"
     },
     "output_type": "display_data"
    }
   ],
   "source": [
    "# Binary columns\n",
    "for x in ['Gender', 'DOJ Extended', 'Joining Bonus', 'Candidate relocate actual','Offered band', 'Candidate Source', 'LOB', 'Location Enc']:\n",
    "    plt.figure(figsize = (10,8))\n",
    "    pd.crosstab(df_exploration[x] , df_exploration['Status']  , normalize='index').plot(kind = 'bar' , stacked='True')"
   ]
  },
  {
   "cell_type": "markdown",
   "metadata": {},
   "source": [
    "<B>Location</B>:The % of people who did not join differ by Location\n",
    "\n",
    "<B>LOB </B> : The % of people who did not join differ by Location\n",
    "\n",
    "<B>Candidate Source </B> The % of people who did not join differ by source\n",
    "\n",
    "<B>Offered Band </B> The % of people who did not join differ by Offered Band as well\n",
    "\n",
    "<B>Candidate Relocation </B> The % of people who did not join differ by whther they had to relocate for the job or not"
   ]
  },
  {
   "cell_type": "markdown",
   "metadata": {},
   "source": [
    "## Visualizing continuous variables against the variable of interest"
   ]
  },
  {
   "cell_type": "code",
   "execution_count": 19,
   "metadata": {},
   "outputs": [
    {
     "data": {
      "text/plain": [
       "<Figure size 720x576 with 0 Axes>"
      ]
     },
     "execution_count": 19,
     "metadata": {},
     "output_type": "execute_result"
    },
    {
     "data": {
      "text/plain": [
       "<AxesSubplot:xlabel='Pecent hike expected in CTC', ylabel='Density'>"
      ]
     },
     "execution_count": 19,
     "metadata": {},
     "output_type": "execute_result"
    },
    {
     "data": {
      "text/plain": [
       "<AxesSubplot:xlabel='Pecent hike expected in CTC', ylabel='Density'>"
      ]
     },
     "execution_count": 19,
     "metadata": {},
     "output_type": "execute_result"
    },
    {
     "data": {
      "text/plain": [
       "<matplotlib.legend.Legend at 0x1f4391e0190>"
      ]
     },
     "execution_count": 19,
     "metadata": {},
     "output_type": "execute_result"
    },
    {
     "data": {
      "image/png": "[encoded data removed]",
      "text/plain": [
       "<Figure size 720x576 with 1 Axes>"
      ]
     },
     "metadata": {
      "needs_background": "light"
     },
     "output_type": "display_data"
    },
    {
     "data": {
      "text/plain": [
       "<Figure size 720x576 with 0 Axes>"
      ]
     },
     "execution_count": 19,
     "metadata": {},
     "output_type": "execute_result"
    },
    {
     "data": {
      "text/plain": [
       "<AxesSubplot:xlabel='Percent hike offered in CTC', ylabel='Density'>"
      ]
     },
     "execution_count": 19,
     "metadata": {},
     "output_type": "execute_result"
    },
    {
     "data": {
      "text/plain": [
       "<AxesSubplot:xlabel='Percent hike offered in CTC', ylabel='Density'>"
      ]
     },
     "execution_count": 19,
     "metadata": {},
     "output_type": "execute_result"
    },
    {
     "data": {
      "text/plain": [
       "<matplotlib.legend.Legend at 0x1f437f10f10>"
      ]
     },
     "execution_count": 19,
     "metadata": {},
     "output_type": "execute_result"
    },
    {
     "data": {
      "image/png": "[encoded data removed]",
      "text/plain": [
       "<Figure size 720x576 with 1 Axes>"
      ]
     },
     "metadata": {
      "needs_background": "light"
     },
     "output_type": "display_data"
    },
    {
     "data": {
      "text/plain": [
       "<Figure size 720x576 with 0 Axes>"
      ]
     },
     "execution_count": 19,
     "metadata": {},
     "output_type": "execute_result"
    },
    {
     "data": {
      "text/plain": [
       "<AxesSubplot:xlabel='Notice period', ylabel='Density'>"
      ]
     },
     "execution_count": 19,
     "metadata": {},
     "output_type": "execute_result"
    },
    {
     "data": {
      "text/plain": [
       "<AxesSubplot:xlabel='Notice period', ylabel='Density'>"
      ]
     },
     "execution_count": 19,
     "metadata": {},
     "output_type": "execute_result"
    },
    {
     "data": {
      "text/plain": [
       "<matplotlib.legend.Legend at 0x1f439313670>"
      ]
     },
     "execution_count": 19,
     "metadata": {},
     "output_type": "execute_result"
    },
    {
     "data": {
      "image/png": "[encoded data removed]",
      "text/plain": [
       "<Figure size 720x576 with 1 Axes>"
      ]
     },
     "metadata": {
      "needs_background": "light"
     },
     "output_type": "display_data"
    },
    {
     "data": {
      "text/plain": [
       "<Figure size 720x576 with 0 Axes>"
      ]
     },
     "execution_count": 19,
     "metadata": {},
     "output_type": "execute_result"
    },
    {
     "data": {
      "text/plain": [
       "<AxesSubplot:xlabel='Percent difference CTC', ylabel='Density'>"
      ]
     },
     "execution_count": 19,
     "metadata": {},
     "output_type": "execute_result"
    },
    {
     "data": {
      "text/plain": [
       "<AxesSubplot:xlabel='Percent difference CTC', ylabel='Density'>"
      ]
     },
     "execution_count": 19,
     "metadata": {},
     "output_type": "execute_result"
    },
    {
     "data": {
      "text/plain": [
       "<matplotlib.legend.Legend at 0x1f439188970>"
      ]
     },
     "execution_count": 19,
     "metadata": {},
     "output_type": "execute_result"
    },
    {
     "data": {
      "image/png": "[encoded data removed]",
      "text/plain": [
       "<Figure size 720x576 with 1 Axes>"
      ]
     },
     "metadata": {
      "needs_background": "light"
     },
     "output_type": "display_data"
    },
    {
     "data": {
      "text/plain": [
       "<Figure size 720x576 with 0 Axes>"
      ]
     },
     "execution_count": 19,
     "metadata": {},
     "output_type": "execute_result"
    },
    {
     "data": {
      "text/plain": [
       "<AxesSubplot:xlabel='Rex in Yrs', ylabel='Density'>"
      ]
     },
     "execution_count": 19,
     "metadata": {},
     "output_type": "execute_result"
    },
    {
     "data": {
      "text/plain": [
       "<AxesSubplot:xlabel='Rex in Yrs', ylabel='Density'>"
      ]
     },
     "execution_count": 19,
     "metadata": {},
     "output_type": "execute_result"
    },
    {
     "data": {
      "text/plain": [
       "<matplotlib.legend.Legend at 0x1f439260a30>"
      ]
     },
     "execution_count": 19,
     "metadata": {},
     "output_type": "execute_result"
    },
    {
     "data": {
      "image/png": "[encoded data removed]",
      "text/plain": [
       "<Figure size 720x576 with 1 Axes>"
      ]
     },
     "metadata": {
      "needs_background": "light"
     },
     "output_type": "display_data"
    },
    {
     "data": {
      "text/plain": [
       "<Figure size 720x576 with 0 Axes>"
      ]
     },
     "execution_count": 19,
     "metadata": {},
     "output_type": "execute_result"
    },
    {
     "data": {
      "text/plain": [
       "<AxesSubplot:xlabel='Age', ylabel='Density'>"
      ]
     },
     "execution_count": 19,
     "metadata": {},
     "output_type": "execute_result"
    },
    {
     "data": {
      "text/plain": [
       "<AxesSubplot:xlabel='Age', ylabel='Density'>"
      ]
     },
     "execution_count": 19,
     "metadata": {},
     "output_type": "execute_result"
    },
    {
     "data": {
      "text/plain": [
       "<matplotlib.legend.Legend at 0x1f439040160>"
      ]
     },
     "execution_count": 19,
     "metadata": {},
     "output_type": "execute_result"
    },
    {
     "data": {
      "image/png": "[encoded data removed]",
      "text/plain": [
       "<Figure size 720x576 with 1 Axes>"
      ]
     },
     "metadata": {
      "needs_background": "light"
     },
     "output_type": "display_data"
    }
   ],
   "source": [
    "for x in ['Pecent hike expected in CTC', 'Percent hike offered in CTC', 'Notice period', 'Percent difference CTC', 'Rex in Yrs', 'Age']:\n",
    "    plt.figure(figsize = (10,8))\n",
    "    sn.kdeplot(df_exploration.loc[df_exploration['Status']=='Joined',x], label='joined')\n",
    "    sn.kdeplot(df_exploration.loc[df_exploration['Status']=='Not Joined',x], label = 'Not Joined')\n",
    "    plt.legend()\n",
    "    plt.show()"
   ]
  },
  {
   "cell_type": "markdown",
   "metadata": {},
   "source": [
    "1. joining Bonus intuitively yes but visually not impactful\n",
    "2. Candidate relocation visual impact\n",
    "3. offered band : Little visually\n",
    "4. Candidate Source: Visually yes\n",
    "5. LOB : visually Yes\n",
    "6. Location Enc : Visually Yes\n",
    "7. % difference in Exp vs offered should matter"
   ]
  },
  {
   "cell_type": "markdown",
   "metadata": {},
   "source": [
    "### Well, We have seen the associativity of a lot of variables with our variable of concern. Let's check if they are related to each other. This will help us later to analyze our results "
   ]
  },
  {
   "cell_type": "markdown",
   "metadata": {},
   "source": [
    "VIF: To check interdependence of X variables "
   ]
  },
  {
   "cell_type": "markdown",
   "metadata": {},
   "source": [
    "There are quite a few variables that are related with each other. For example: Percent difference CTC can be derives from the Percent hike offered in CTC and Pecent hike expected in CTC\t"
   ]
  },
  {
   "cell_type": "code",
   "execution_count": 20,
   "metadata": {
    "scrolled": true
   },
   "outputs": [
    {
     "data": {
      "text/html": [
       "<div>\n",
       "<style scoped>\n",
       "    .dataframe tbody tr th:only-of-type {\n",
       "        vertical-align: middle;\n",
       "    }\n",
       "\n",
       "    .dataframe tbody tr th {\n",
       "        vertical-align: top;\n",
       "    }\n",
       "\n",
       "    .dataframe thead th {\n",
       "        text-align: right;\n",
       "    }\n",
       "</style>\n",
       "<table border=\"1\" class=\"dataframe\">\n",
       "  <thead>\n",
       "    <tr style=\"text-align: right;\">\n",
       "      <th></th>\n",
       "      <th>columns</th>\n",
       "      <th>VIF</th>\n",
       "    </tr>\n",
       "  </thead>\n",
       "  <tbody>\n",
       "    <tr>\n",
       "      <th>4</th>\n",
       "      <td>Percent hike offered in CTC</td>\n",
       "      <td>89.863423</td>\n",
       "    </tr>\n",
       "    <tr>\n",
       "      <th>3</th>\n",
       "      <td>Pecent hike expected in CTC</td>\n",
       "      <td>86.352169</td>\n",
       "    </tr>\n",
       "    <tr>\n",
       "      <th>5</th>\n",
       "      <td>Percent difference CTC</td>\n",
       "      <td>61.328099</td>\n",
       "    </tr>\n",
       "    <tr>\n",
       "      <th>11</th>\n",
       "      <td>Offered band_E1</td>\n",
       "      <td>28.395527</td>\n",
       "    </tr>\n",
       "    <tr>\n",
       "      <th>12</th>\n",
       "      <td>Offered band_E2</td>\n",
       "      <td>17.013143</td>\n",
       "    </tr>\n",
       "    <tr>\n",
       "      <th>9</th>\n",
       "      <td>Rex in Yrs</td>\n",
       "      <td>11.508476</td>\n",
       "    </tr>\n",
       "    <tr>\n",
       "      <th>10</th>\n",
       "      <td>Age</td>\n",
       "      <td>10.649903</td>\n",
       "    </tr>\n",
       "    <tr>\n",
       "      <th>22</th>\n",
       "      <td>LOB_INFRA</td>\n",
       "      <td>7.269334</td>\n",
       "    </tr>\n",
       "    <tr>\n",
       "      <th>8</th>\n",
       "      <td>Gender</td>\n",
       "      <td>6.072501</td>\n",
       "    </tr>\n",
       "    <tr>\n",
       "      <th>19</th>\n",
       "      <td>LOB_ERS</td>\n",
       "      <td>6.015991</td>\n",
       "    </tr>\n",
       "  </tbody>\n",
       "</table>\n",
       "</div>"
      ],
      "text/plain": [
       "                        columns        VIF\n",
       "4   Percent hike offered in CTC  89.863423\n",
       "3   Pecent hike expected in CTC  86.352169\n",
       "5        Percent difference CTC  61.328099\n",
       "11              Offered band_E1  28.395527\n",
       "12              Offered band_E2  17.013143\n",
       "9                    Rex in Yrs  11.508476\n",
       "10                          Age  10.649903\n",
       "22                    LOB_INFRA   7.269334\n",
       "8                        Gender   6.072501\n",
       "19                      LOB_ERS   6.015991"
      ]
     },
     "execution_count": 20,
     "metadata": {},
     "output_type": "execute_result"
    }
   ],
   "source": [
    "## Checking the VIFs to assess dependence of all X variables\n",
    "## Now, we have a lot of variabls, we will need to select important features\n",
    "## Let's check the VIF\n",
    "from statsmodels.stats.outliers_influence import variance_inflation_factor\n",
    "\n",
    "vif_df_int = df.drop(['Status'], axis = 1)\n",
    "## Creating and storing in a dataframe\n",
    "vif_df = pd.DataFrame({ 'columns': vif_df_int.columns,\n",
    "                          'VIF': [variance_inflation_factor(vif_df_int.to_numpy() , i) for i in range(len(vif_df_int.columns))]\n",
    "                      })\n",
    "vif_df.sort_values('VIF' , ascending= False).head(10)\n",
    "#correlated_features = vif_df.loc[vif_df['VIF']>4, 'columns'].tolist()\n"
   ]
  },
  {
   "cell_type": "markdown",
   "metadata": {},
   "source": [
    "Dropping highly correlated variables from the model "
   ]
  },
  {
   "cell_type": "code",
   "execution_count": 21,
   "metadata": {},
   "outputs": [],
   "source": [
    "drop_cols = ['Percent hike offered in CTC', 'Pecent hike expected in CTC']"
   ]
  },
  {
   "cell_type": "code",
   "execution_count": 22,
   "metadata": {},
   "outputs": [],
   "source": [
    "model_df_cols_dropped = df.drop(drop_cols, axis = 1)"
   ]
  },
  {
   "cell_type": "markdown",
   "metadata": {},
   "source": [
    "# Splitting the dataset into test and train "
   ]
  },
  {
   "cell_type": "code",
   "execution_count": 23,
   "metadata": {},
   "outputs": [],
   "source": [
    "ind = model_df_cols_dropped.drop(\"Status\", axis = 1)\n",
    "dep = model_df_cols_dropped.loc[:,\"Status\"]"
   ]
  },
  {
   "cell_type": "markdown",
   "metadata": {},
   "source": [
    "# Lets develop some predictive models"
   ]
  },
  {
   "cell_type": "markdown",
   "metadata": {},
   "source": [
    "### Logistic Regression"
   ]
  },
  {
   "cell_type": "markdown",
   "metadata": {},
   "source": [
    "Logistic regression is the most basic classification algorithm"
   ]
  },
  {
   "cell_type": "code",
   "execution_count": 24,
   "metadata": {},
   "outputs": [
    {
     "data": {
      "text/plain": [
       "(6296, 32)"
      ]
     },
     "execution_count": 24,
     "metadata": {},
     "output_type": "execute_result"
    },
    {
     "data": {
      "text/plain": [
       "(2699, 32)"
      ]
     },
     "execution_count": 24,
     "metadata": {},
     "output_type": "execute_result"
    },
    {
     "data": {
      "text/plain": [
       "(6296,)"
      ]
     },
     "execution_count": 24,
     "metadata": {},
     "output_type": "execute_result"
    },
    {
     "data": {
      "text/plain": [
       "(2699,)"
      ]
     },
     "execution_count": 24,
     "metadata": {},
     "output_type": "execute_result"
    },
    {
     "data": {
      "text/html": [
       "<div>\n",
       "<style scoped>\n",
       "    .dataframe tbody tr th:only-of-type {\n",
       "        vertical-align: middle;\n",
       "    }\n",
       "\n",
       "    .dataframe tbody tr th {\n",
       "        vertical-align: top;\n",
       "    }\n",
       "\n",
       "    .dataframe thead th {\n",
       "        text-align: right;\n",
       "    }\n",
       "</style>\n",
       "<table border=\"1\" class=\"dataframe\">\n",
       "  <thead>\n",
       "    <tr style=\"text-align: right;\">\n",
       "      <th></th>\n",
       "      <th>DOJ Extended</th>\n",
       "      <th>Duration to accept offer</th>\n",
       "      <th>Notice period</th>\n",
       "      <th>Percent difference CTC</th>\n",
       "      <th>Joining Bonus</th>\n",
       "      <th>Candidate relocate actual</th>\n",
       "      <th>Gender</th>\n",
       "      <th>Rex in Yrs</th>\n",
       "      <th>Age</th>\n",
       "      <th>Offered band_E1</th>\n",
       "      <th>Offered band_E2</th>\n",
       "      <th>Offered band_E3</th>\n",
       "      <th>Candidate Source_Direct</th>\n",
       "      <th>Candidate Source_Employee Referral</th>\n",
       "      <th>LOB_BFSI</th>\n",
       "      <th>LOB_CSMP</th>\n",
       "      <th>LOB_EAS</th>\n",
       "      <th>LOB_ERS</th>\n",
       "      <th>LOB_ETS</th>\n",
       "      <th>LOB_Healthcare</th>\n",
       "      <th>LOB_INFRA</th>\n",
       "      <th>LOB_MMS</th>\n",
       "      <th>Location Enc_B</th>\n",
       "      <th>Location Enc_C</th>\n",
       "      <th>Location Enc_D</th>\n",
       "      <th>Location Enc_E</th>\n",
       "      <th>Location Enc_F</th>\n",
       "      <th>Location Enc_G</th>\n",
       "      <th>Location Enc_H</th>\n",
       "      <th>Location Enc_I</th>\n",
       "      <th>Location Enc_J</th>\n",
       "      <th>Location Enc_K</th>\n",
       "    </tr>\n",
       "  </thead>\n",
       "  <tbody>\n",
       "    <tr>\n",
       "      <th>4633</th>\n",
       "      <td>1</td>\n",
       "      <td>0.026786</td>\n",
       "      <td>0.25</td>\n",
       "      <td>0.155145</td>\n",
       "      <td>0</td>\n",
       "      <td>0</td>\n",
       "      <td>1</td>\n",
       "      <td>0.125</td>\n",
       "      <td>0.20</td>\n",
       "      <td>1</td>\n",
       "      <td>0</td>\n",
       "      <td>0</td>\n",
       "      <td>0</td>\n",
       "      <td>0</td>\n",
       "      <td>1</td>\n",
       "      <td>0</td>\n",
       "      <td>0</td>\n",
       "      <td>0</td>\n",
       "      <td>0</td>\n",
       "      <td>0</td>\n",
       "      <td>0</td>\n",
       "      <td>0</td>\n",
       "      <td>1</td>\n",
       "      <td>0</td>\n",
       "      <td>0</td>\n",
       "      <td>0</td>\n",
       "      <td>0</td>\n",
       "      <td>0</td>\n",
       "      <td>0</td>\n",
       "      <td>0</td>\n",
       "      <td>0</td>\n",
       "      <td>0</td>\n",
       "    </tr>\n",
       "    <tr>\n",
       "      <th>7396</th>\n",
       "      <td>0</td>\n",
       "      <td>0.272321</td>\n",
       "      <td>0.50</td>\n",
       "      <td>0.183162</td>\n",
       "      <td>0</td>\n",
       "      <td>0</td>\n",
       "      <td>0</td>\n",
       "      <td>0.125</td>\n",
       "      <td>0.35</td>\n",
       "      <td>1</td>\n",
       "      <td>0</td>\n",
       "      <td>0</td>\n",
       "      <td>1</td>\n",
       "      <td>0</td>\n",
       "      <td>0</td>\n",
       "      <td>0</td>\n",
       "      <td>0</td>\n",
       "      <td>0</td>\n",
       "      <td>1</td>\n",
       "      <td>0</td>\n",
       "      <td>0</td>\n",
       "      <td>0</td>\n",
       "      <td>0</td>\n",
       "      <td>0</td>\n",
       "      <td>1</td>\n",
       "      <td>0</td>\n",
       "      <td>0</td>\n",
       "      <td>0</td>\n",
       "      <td>0</td>\n",
       "      <td>0</td>\n",
       "      <td>0</td>\n",
       "      <td>0</td>\n",
       "    </tr>\n",
       "  </tbody>\n",
       "</table>\n",
       "</div>"
      ],
      "text/plain": [
       "      DOJ Extended  Duration to accept offer  Notice period  \\\n",
       "4633             1                  0.026786           0.25   \n",
       "7396             0                  0.272321           0.50   \n",
       "\n",
       "      Percent difference CTC  Joining Bonus  Candidate relocate actual  \\\n",
       "4633                0.155145              0                          0   \n",
       "7396                0.183162              0                          0   \n",
       "\n",
       "      Gender  Rex in Yrs   Age  Offered band_E1  Offered band_E2  \\\n",
       "4633       1       0.125  0.20                1                0   \n",
       "7396       0       0.125  0.35                1                0   \n",
       "\n",
       "      Offered band_E3  Candidate Source_Direct  \\\n",
       "4633                0                        0   \n",
       "7396                0                        1   \n",
       "\n",
       "      Candidate Source_Employee Referral  LOB_BFSI  LOB_CSMP  LOB_EAS  \\\n",
       "4633                                   0         1         0        0   \n",
       "7396                                   0         0         0        0   \n",
       "\n",
       "      LOB_ERS  LOB_ETS  LOB_Healthcare  LOB_INFRA  LOB_MMS  Location Enc_B  \\\n",
       "4633        0        0               0          0        0               1   \n",
       "7396        0        1               0          0        0               0   \n",
       "\n",
       "      Location Enc_C  Location Enc_D  Location Enc_E  Location Enc_F  \\\n",
       "4633               0               0               0               0   \n",
       "7396               0               1               0               0   \n",
       "\n",
       "      Location Enc_G  Location Enc_H  Location Enc_I  Location Enc_J  \\\n",
       "4633               0               0               0               0   \n",
       "7396               0               0               0               0   \n",
       "\n",
       "      Location Enc_K  \n",
       "4633               0  \n",
       "7396               0  "
      ]
     },
     "execution_count": 24,
     "metadata": {},
     "output_type": "execute_result"
    },
    {
     "data": {
      "text/plain": [
       "(2699, 32)"
      ]
     },
     "execution_count": 24,
     "metadata": {},
     "output_type": "execute_result"
    }
   ],
   "source": [
    "## Splitting the data into dependent and independent variables first\n",
    "ind = model_df_cols_dropped.drop(\"Status\", axis = 1)\n",
    "dep = model_df_cols_dropped['Status']\n",
    "\n",
    "## Creating train and test dataframes\n",
    "train_x , test_x , train_y , test_y = train_test_split(ind , dep, train_size = 0.7 , random_state = 12)\n",
    "\n",
    "for x in [train_x , test_x , train_y , test_y]:\n",
    "    x.shape\n",
    "train_x.head(2)\n",
    "test_x.shape"
   ]
  },
  {
   "cell_type": "code",
   "execution_count": 25,
   "metadata": {},
   "outputs": [
    {
     "name": "stdout",
     "output_type": "stream",
     "text": [
      "Precision: 56.041% (4.944%)\n"
     ]
    }
   ],
   "source": [
    "from sklearn.model_selection import KFold\n",
    "logreg = LogisticRegression(max_iter=3000)\n",
    "kfold = KFold(n_splits=5, random_state=0, shuffle=True)\n",
    "score = cross_val_score(estimator=logreg,X=ind, y= dep,cv=kfold,scoring='precision')\n",
    "print(\"Precision: %.3f%% (%.3f%%)\" % (score.mean()*100.0, score.std()*100.0))"
   ]
  },
  {
   "cell_type": "markdown",
   "metadata": {},
   "source": [
    "# Lets try to fit it on the train Dataset"
   ]
  },
  {
   "cell_type": "code",
   "execution_count": 39,
   "metadata": {},
   "outputs": [
    {
     "data": {
      "text/plain": [
       "[0.21230321679869696, 0.2599131010552923]"
      ]
     },
     "execution_count": 39,
     "metadata": {},
     "output_type": "execute_result"
    }
   ],
   "source": [
    "logistic_model = logreg.fit(train_x, train_y)\n",
    "logistic_classification = logistic_model.predict(test_x)\n",
    "logistic_prob = logistic_model.predict_proba(test_x)\n",
    "prob_logistic_reg=[]\n",
    "for x in range(len(list(logistic_prob.flatten()))):\n",
    "    if x%2 !=0:\n",
    "        prob_logistic_reg.append(list(logistic_prob.flatten())[x])\n",
    "prob_logistic_reg[0:2]    "
   ]
  },
  {
   "cell_type": "markdown",
   "metadata": {},
   "source": [
    "Evaluating the model"
   ]
  },
  {
   "cell_type": "code",
   "execution_count": 41,
   "metadata": {},
   "outputs": [
    {
     "data": {
      "text/plain": [
       "pred\n",
       "0    0.000486\n",
       "1    0.501365\n",
       "Name: pred_prob, dtype: float64"
      ]
     },
     "execution_count": 41,
     "metadata": {},
     "output_type": "execute_result"
    },
    {
     "data": {
      "text/html": [
       "<div>\n",
       "<style scoped>\n",
       "    .dataframe tbody tr th:only-of-type {\n",
       "        vertical-align: middle;\n",
       "    }\n",
       "\n",
       "    .dataframe tbody tr th {\n",
       "        vertical-align: top;\n",
       "    }\n",
       "\n",
       "    .dataframe thead th {\n",
       "        text-align: right;\n",
       "    }\n",
       "</style>\n",
       "<table border=\"1\" class=\"dataframe\">\n",
       "  <thead>\n",
       "    <tr style=\"text-align: right;\">\n",
       "      <th>pred</th>\n",
       "      <th>0</th>\n",
       "      <th>1</th>\n",
       "    </tr>\n",
       "    <tr>\n",
       "      <th>actual</th>\n",
       "      <th></th>\n",
       "      <th></th>\n",
       "    </tr>\n",
       "  </thead>\n",
       "  <tbody>\n",
       "    <tr>\n",
       "      <th>0</th>\n",
       "      <td>2146</td>\n",
       "      <td>26</td>\n",
       "    </tr>\n",
       "    <tr>\n",
       "      <th>1</th>\n",
       "      <td>497</td>\n",
       "      <td>30</td>\n",
       "    </tr>\n",
       "  </tbody>\n",
       "</table>\n",
       "</div>"
      ],
      "text/plain": [
       "pred       0   1\n",
       "actual          \n",
       "0       2146  26\n",
       "1        497  30"
      ]
     },
     "execution_count": 41,
     "metadata": {},
     "output_type": "execute_result"
    }
   ],
   "source": [
    "logistic_df = pd.DataFrame({\n",
    "    'actual': test_y,\n",
    "    'pred' :logistic_classification,\n",
    "    'pred_prob':prob_logistic_reg\n",
    "})\n",
    "## Cutoff is at 0.5\n",
    "logistic_df.groupby(['pred'])['pred_prob'].min()\n",
    "pd.crosstab(logistic_df['actual'], logistic_df['pred'])"
   ]
  },
  {
   "cell_type": "code",
   "execution_count": 42,
   "metadata": {
    "scrolled": true
   },
   "outputs": [
    {
     "name": "stdout",
     "output_type": "stream",
     "text": [
      "              precision    recall  f1-score   support\n",
      "\n",
      "           0       0.81      0.99      0.89      2172\n",
      "           1       0.54      0.06      0.10       527\n",
      "\n",
      "    accuracy                           0.81      2699\n",
      "   macro avg       0.67      0.52      0.50      2699\n",
      "weighted avg       0.76      0.81      0.74      2699\n",
      "\n"
     ]
    }
   ],
   "source": [
    "print(classification_report(test_y,logistic_classification))"
   ]
  },
  {
   "cell_type": "code",
   "execution_count": 46,
   "metadata": {},
   "outputs": [
    {
     "data": {
      "text/plain": [
       "[<matplotlib.lines.Line2D at 0x1f440a22220>]"
      ]
     },
     "execution_count": 46,
     "metadata": {},
     "output_type": "execute_result"
    },
    {
     "data": {
      "text/plain": [
       "[<matplotlib.lines.Line2D at 0x1f440b10fa0>]"
      ]
     },
     "execution_count": 46,
     "metadata": {},
     "output_type": "execute_result"
    },
    {
     "data": {
      "text/plain": [
       "0.7231204636550752"
      ]
     },
     "execution_count": 46,
     "metadata": {},
     "output_type": "execute_result"
    },
    {
     "data": {
      "text/plain": [
       "0.7231204636550752"
      ]
     },
     "execution_count": 46,
     "metadata": {},
     "output_type": "execute_result"
    },
    {
     "data": {
      "image/png": "[encoded data removed]",
      "text/plain": [
       "<Figure size 432x288 with 1 Axes>"
      ]
     },
     "metadata": {
      "needs_background": "light"
     },
     "output_type": "display_data"
    }
   ],
   "source": [
    "fpr , tpr , threshold = metrics.roc_curve(logistic_df['actual'] , logistic_df['pred_prob'] , drop_intermediate=True)\n",
    "plt.plot(fpr,tpr)\n",
    "plt.plot([0,1],[0,1] , linestyle = 'dashed' , color ='red')\n",
    "metrics.auc(fpr,tpr)\n",
    "metrics.roc_auc_score(logistic_df['actual'] , logistic_df['pred_prob'])\n",
    "#print(threshold)"
   ]
  },
  {
   "cell_type": "markdown",
   "metadata": {},
   "source": [
    "# Performing Youden's test "
   ]
  },
  {
   "cell_type": "code",
   "execution_count": 50,
   "metadata": {},
   "outputs": [
    {
     "data": {
      "text/plain": [
       "[<matplotlib.lines.Line2D at 0x1f441cbd760>]"
      ]
     },
     "execution_count": 50,
     "metadata": {},
     "output_type": "execute_result"
    },
    {
     "name": "stdout",
     "output_type": "stream",
     "text": [
      "(array([484], dtype=int64),)\n"
     ]
    },
    {
     "data": {
      "text/plain": [
       "<matplotlib.lines.Line2D at 0x1f441cbd9d0>"
      ]
     },
     "execution_count": 50,
     "metadata": {},
     "output_type": "execute_result"
    },
    {
     "name": "stdout",
     "output_type": "stream",
     "text": [
      "0.20064167945529077\n"
     ]
    },
    {
     "data": {
      "text/html": [
       "<div>\n",
       "<style scoped>\n",
       "    .dataframe tbody tr th:only-of-type {\n",
       "        vertical-align: middle;\n",
       "    }\n",
       "\n",
       "    .dataframe tbody tr th {\n",
       "        vertical-align: top;\n",
       "    }\n",
       "\n",
       "    .dataframe thead th {\n",
       "        text-align: right;\n",
       "    }\n",
       "</style>\n",
       "<table border=\"1\" class=\"dataframe\">\n",
       "  <thead>\n",
       "    <tr style=\"text-align: right;\">\n",
       "      <th></th>\n",
       "      <th>actual</th>\n",
       "      <th>pred</th>\n",
       "      <th>pred_prob</th>\n",
       "      <th>predicted_category_j_statistic</th>\n",
       "    </tr>\n",
       "  </thead>\n",
       "  <tbody>\n",
       "    <tr>\n",
       "      <th>4271</th>\n",
       "      <td>1</td>\n",
       "      <td>0</td>\n",
       "      <td>0.212303</td>\n",
       "      <td>1</td>\n",
       "    </tr>\n",
       "    <tr>\n",
       "      <th>5945</th>\n",
       "      <td>0</td>\n",
       "      <td>0</td>\n",
       "      <td>0.259913</td>\n",
       "      <td>1</td>\n",
       "    </tr>\n",
       "    <tr>\n",
       "      <th>1499</th>\n",
       "      <td>0</td>\n",
       "      <td>0</td>\n",
       "      <td>0.004979</td>\n",
       "      <td>0</td>\n",
       "    </tr>\n",
       "    <tr>\n",
       "      <th>4681</th>\n",
       "      <td>0</td>\n",
       "      <td>0</td>\n",
       "      <td>0.254522</td>\n",
       "      <td>1</td>\n",
       "    </tr>\n",
       "    <tr>\n",
       "      <th>6542</th>\n",
       "      <td>1</td>\n",
       "      <td>1</td>\n",
       "      <td>0.567441</td>\n",
       "      <td>1</td>\n",
       "    </tr>\n",
       "  </tbody>\n",
       "</table>\n",
       "</div>"
      ],
      "text/plain": [
       "      actual  pred  pred_prob  predicted_category_j_statistic\n",
       "4271       1     0   0.212303                               1\n",
       "5945       0     0   0.259913                               1\n",
       "1499       0     0   0.004979                               0\n",
       "4681       0     0   0.254522                               1\n",
       "6542       1     1   0.567441                               1"
      ]
     },
     "execution_count": 50,
     "metadata": {},
     "output_type": "execute_result"
    },
    {
     "data": {
      "image/png": "[encoded data removed]",
      "text/plain": [
       "<Figure size 432x288 with 1 Axes>"
      ]
     },
     "metadata": {
      "needs_background": "light"
     },
     "output_type": "display_data"
    }
   ],
   "source": [
    "### Since we have the ROC Curve laid out, let's try and see what should be the optimal cutoff\n",
    "j_st = np.array(tpr) - np.array(fpr)\n",
    "result = np.where(j_st == max(j_st))\n",
    "plt.plot(j_st)\n",
    "print(result)\n",
    "plt.axvline(result , color='red')\n",
    "\n",
    "### Let's try to see the threshold at this point\n",
    "j_st = float(threshold[result])\n",
    "print(j_st)\n",
    "## Let's see how does the model improve with this new threshold\n",
    "\n",
    "logistic_df['predicted_category_j_statistic'] = logistic_df['pred_prob'].apply(lambda x: 1 if x>=j_st else 0)\n",
    "logistic_df.head(5)"
   ]
  },
  {
   "cell_type": "code",
   "execution_count": 52,
   "metadata": {},
   "outputs": [
    {
     "name": "stdout",
     "output_type": "stream",
     "text": [
      "              precision    recall  f1-score   support\n",
      "\n",
      "           0       0.89      0.65      0.75      2172\n",
      "           1       0.32      0.69      0.44       527\n",
      "\n",
      "    accuracy                           0.65      2699\n",
      "   macro avg       0.61      0.67      0.59      2699\n",
      "weighted avg       0.78      0.65      0.69      2699\n",
      "\n"
     ]
    }
   ],
   "source": [
    "print(classification_report(logistic_df['actual'],logistic_df['predicted_category_j_statistic']))"
   ]
  },
  {
   "cell_type": "markdown",
   "metadata": {},
   "source": [
    "## Changing the cutoff using Youden's index improves the recall for our class to ~70%. We obviously have to take a hit on the metrics for class : 0 "
   ]
  },
  {
   "cell_type": "markdown",
   "metadata": {},
   "source": [
    "Lets see if training the data on the oversampled dataset helps us improve the model further"
   ]
  },
  {
   "cell_type": "code",
   "execution_count": 133,
   "metadata": {},
   "outputs": [],
   "source": [
    "#Increase the proportion of minority class using Synthetic Minority oversampling technique\n",
    "\n",
    "## Importing the liabrary for SMOTE\n",
    "from imblearn.over_sampling import SMOTE\n",
    "os = SMOTE(random_state = 0)\n",
    "os_data_x,os_data_y= os.fit_resample(ind, dep)"
   ]
  },
  {
   "cell_type": "code",
   "execution_count": 134,
   "metadata": {},
   "outputs": [
    {
     "name": "stdout",
     "output_type": "stream",
     "text": [
      "(14626, 32)\n",
      "(14626,)\n"
     ]
    },
    {
     "data": {
      "text/plain": [
       "0    7313\n",
       "1    7313\n",
       "Name: Status, dtype: int64"
      ]
     },
     "execution_count": 134,
     "metadata": {},
     "output_type": "execute_result"
    }
   ],
   "source": [
    "print(os_data_x.shape)\n",
    "print(os_data_y.shape)\n",
    "os_data_y.value_counts()"
   ]
  },
  {
   "cell_type": "markdown",
   "metadata": {},
   "source": [
    "# Lets create a parallel dataset that undersamples from the majority dataset"
   ]
  },
  {
   "cell_type": "code",
   "execution_count": 135,
   "metadata": {},
   "outputs": [
    {
     "data": {
      "text/plain": [
       "Counter({0: 1682, 1: 1682})"
      ]
     },
     "execution_count": 135,
     "metadata": {},
     "output_type": "execute_result"
    }
   ],
   "source": [
    "# https://machinelearningmastery.com/undersampling-algorithms-for-imbalanced-classification/\n",
    "from imblearn.under_sampling import NearMiss\n",
    "from collections import Counter\n",
    "undersample = NearMiss(version=1, n_neighbors=1)\n",
    "# transform the dataset\n",
    "X, y = undersample.fit_resample(ind, dep)\n",
    "Counter(y)\n",
    "## We can see that now we have 50% contribution from each class"
   ]
  },
  {
   "cell_type": "markdown",
   "metadata": {},
   "source": [
    "# Selecting where do you want to run models -- OS/US"
   ]
  },
  {
   "cell_type": "code",
   "execution_count": 137,
   "metadata": {},
   "outputs": [
    {
     "data": {
      "text/plain": [
       "Counter({0: 7313, 1: 7313})"
      ]
     },
     "execution_count": 137,
     "metadata": {},
     "output_type": "execute_result"
    }
   ],
   "source": [
    "os_data_x = os_data_x \n",
    "os_data_y = os_data_y\n",
    "Counter(os_data_y)"
   ]
  },
  {
   "cell_type": "markdown",
   "metadata": {},
   "source": [
    "Fitting the model again"
   ]
  },
  {
   "cell_type": "code",
   "execution_count": 162,
   "metadata": {},
   "outputs": [
    {
     "name": "stdout",
     "output_type": "stream",
     "text": [
      "precision: 66.536% (1.253%)\n",
      "recall: 75.841% (0.877%)\n",
      "f1: 70.872% (0.632%)\n",
      "roc_auc: 75.781% (0.235%)\n",
      "accuracy: 68.836% (0.619%)\n"
     ]
    }
   ],
   "source": [
    "logreg = LogisticRegression(max_iter=3000)\n",
    "kfold = KFold(n_splits=5, random_state=0, shuffle=True)\n",
    "for x in [\"precision\", \"recall\",\"f1\",\"roc_auc\" ,\"accuracy\"]:\n",
    "    score = cross_val_score(estimator=logreg,X=os_data_x, y= os_data_y,cv=kfold,scoring=x)\n",
    "    print(x+ \": %.3f%% (%.3f%%)\" % (score.mean()*100.0, score.std()*100.0))"
   ]
  },
  {
   "cell_type": "markdown",
   "metadata": {},
   "source": [
    "\n",
    "1. we can see that overall performance metrics of the model have increased \n",
    "\n",
    "2. Also, Using K folds CV, we have made sure that the variation is not very huge. The performance metrices are more or less consistent"
   ]
  },
  {
   "cell_type": "markdown",
   "metadata": {},
   "source": [
    "### We can now train the model using the training set from this new dataset"
   ]
  },
  {
   "cell_type": "code",
   "execution_count": 163,
   "metadata": {},
   "outputs": [
    {
     "data": {
      "text/plain": [
       "(10238, 32)"
      ]
     },
     "execution_count": 163,
     "metadata": {},
     "output_type": "execute_result"
    },
    {
     "data": {
      "text/plain": [
       "(4388, 32)"
      ]
     },
     "execution_count": 163,
     "metadata": {},
     "output_type": "execute_result"
    },
    {
     "data": {
      "text/plain": [
       "(10238,)"
      ]
     },
     "execution_count": 163,
     "metadata": {},
     "output_type": "execute_result"
    },
    {
     "data": {
      "text/plain": [
       "(4388,)"
      ]
     },
     "execution_count": 163,
     "metadata": {},
     "output_type": "execute_result"
    },
    {
     "data": {
      "text/html": [
       "<div>\n",
       "<style scoped>\n",
       "    .dataframe tbody tr th:only-of-type {\n",
       "        vertical-align: middle;\n",
       "    }\n",
       "\n",
       "    .dataframe tbody tr th {\n",
       "        vertical-align: top;\n",
       "    }\n",
       "\n",
       "    .dataframe thead th {\n",
       "        text-align: right;\n",
       "    }\n",
       "</style>\n",
       "<table border=\"1\" class=\"dataframe\">\n",
       "  <thead>\n",
       "    <tr style=\"text-align: right;\">\n",
       "      <th></th>\n",
       "      <th>DOJ Extended</th>\n",
       "      <th>Duration to accept offer</th>\n",
       "      <th>Notice period</th>\n",
       "      <th>Percent difference CTC</th>\n",
       "      <th>Joining Bonus</th>\n",
       "      <th>Candidate relocate actual</th>\n",
       "      <th>Gender</th>\n",
       "      <th>Rex in Yrs</th>\n",
       "      <th>Age</th>\n",
       "      <th>Offered band_E1</th>\n",
       "      <th>Offered band_E2</th>\n",
       "      <th>Offered band_E3</th>\n",
       "      <th>Candidate Source_Direct</th>\n",
       "      <th>Candidate Source_Employee Referral</th>\n",
       "      <th>LOB_BFSI</th>\n",
       "      <th>LOB_CSMP</th>\n",
       "      <th>LOB_EAS</th>\n",
       "      <th>LOB_ERS</th>\n",
       "      <th>LOB_ETS</th>\n",
       "      <th>LOB_Healthcare</th>\n",
       "      <th>LOB_INFRA</th>\n",
       "      <th>LOB_MMS</th>\n",
       "      <th>Location Enc_B</th>\n",
       "      <th>Location Enc_C</th>\n",
       "      <th>Location Enc_D</th>\n",
       "      <th>Location Enc_E</th>\n",
       "      <th>Location Enc_F</th>\n",
       "      <th>Location Enc_G</th>\n",
       "      <th>Location Enc_H</th>\n",
       "      <th>Location Enc_I</th>\n",
       "      <th>Location Enc_J</th>\n",
       "      <th>Location Enc_K</th>\n",
       "    </tr>\n",
       "  </thead>\n",
       "  <tbody>\n",
       "    <tr>\n",
       "      <th>4633</th>\n",
       "      <td>1</td>\n",
       "      <td>0.026786</td>\n",
       "      <td>0.25</td>\n",
       "      <td>0.155145</td>\n",
       "      <td>0</td>\n",
       "      <td>0</td>\n",
       "      <td>1</td>\n",
       "      <td>0.125</td>\n",
       "      <td>0.20</td>\n",
       "      <td>1</td>\n",
       "      <td>0</td>\n",
       "      <td>0</td>\n",
       "      <td>0</td>\n",
       "      <td>0</td>\n",
       "      <td>1</td>\n",
       "      <td>0</td>\n",
       "      <td>0</td>\n",
       "      <td>0</td>\n",
       "      <td>0</td>\n",
       "      <td>0</td>\n",
       "      <td>0</td>\n",
       "      <td>0</td>\n",
       "      <td>1</td>\n",
       "      <td>0</td>\n",
       "      <td>0</td>\n",
       "      <td>0</td>\n",
       "      <td>0</td>\n",
       "      <td>0</td>\n",
       "      <td>0</td>\n",
       "      <td>0</td>\n",
       "      <td>0</td>\n",
       "      <td>0</td>\n",
       "    </tr>\n",
       "    <tr>\n",
       "      <th>7396</th>\n",
       "      <td>0</td>\n",
       "      <td>0.272321</td>\n",
       "      <td>0.50</td>\n",
       "      <td>0.183162</td>\n",
       "      <td>0</td>\n",
       "      <td>0</td>\n",
       "      <td>0</td>\n",
       "      <td>0.125</td>\n",
       "      <td>0.35</td>\n",
       "      <td>1</td>\n",
       "      <td>0</td>\n",
       "      <td>0</td>\n",
       "      <td>1</td>\n",
       "      <td>0</td>\n",
       "      <td>0</td>\n",
       "      <td>0</td>\n",
       "      <td>0</td>\n",
       "      <td>0</td>\n",
       "      <td>1</td>\n",
       "      <td>0</td>\n",
       "      <td>0</td>\n",
       "      <td>0</td>\n",
       "      <td>0</td>\n",
       "      <td>0</td>\n",
       "      <td>1</td>\n",
       "      <td>0</td>\n",
       "      <td>0</td>\n",
       "      <td>0</td>\n",
       "      <td>0</td>\n",
       "      <td>0</td>\n",
       "      <td>0</td>\n",
       "      <td>0</td>\n",
       "    </tr>\n",
       "  </tbody>\n",
       "</table>\n",
       "</div>"
      ],
      "text/plain": [
       "      DOJ Extended  Duration to accept offer  Notice period  \\\n",
       "4633             1                  0.026786           0.25   \n",
       "7396             0                  0.272321           0.50   \n",
       "\n",
       "      Percent difference CTC  Joining Bonus  Candidate relocate actual  \\\n",
       "4633                0.155145              0                          0   \n",
       "7396                0.183162              0                          0   \n",
       "\n",
       "      Gender  Rex in Yrs   Age  Offered band_E1  Offered band_E2  \\\n",
       "4633       1       0.125  0.20                1                0   \n",
       "7396       0       0.125  0.35                1                0   \n",
       "\n",
       "      Offered band_E3  Candidate Source_Direct  \\\n",
       "4633                0                        0   \n",
       "7396                0                        1   \n",
       "\n",
       "      Candidate Source_Employee Referral  LOB_BFSI  LOB_CSMP  LOB_EAS  \\\n",
       "4633                                   0         1         0        0   \n",
       "7396                                   0         0         0        0   \n",
       "\n",
       "      LOB_ERS  LOB_ETS  LOB_Healthcare  LOB_INFRA  LOB_MMS  Location Enc_B  \\\n",
       "4633        0        0               0          0        0               1   \n",
       "7396        0        1               0          0        0               0   \n",
       "\n",
       "      Location Enc_C  Location Enc_D  Location Enc_E  Location Enc_F  \\\n",
       "4633               0               0               0               0   \n",
       "7396               0               1               0               0   \n",
       "\n",
       "      Location Enc_G  Location Enc_H  Location Enc_I  Location Enc_J  \\\n",
       "4633               0               0               0               0   \n",
       "7396               0               0               0               0   \n",
       "\n",
       "      Location Enc_K  \n",
       "4633               0  \n",
       "7396               0  "
      ]
     },
     "execution_count": 163,
     "metadata": {},
     "output_type": "execute_result"
    }
   ],
   "source": [
    "## Creating train and test dataframes\n",
    "train_x_os , test_x_os , train_y_os , test_y_os = train_test_split(os_data_x , os_data_y, train_size = 0.7 , random_state = 12)\n",
    "\n",
    "for x in [train_x_os , test_x_os , train_y_os , test_y_os]:\n",
    "    x.shape\n",
    "train_x.head(2)"
   ]
  },
  {
   "cell_type": "code",
   "execution_count": 164,
   "metadata": {},
   "outputs": [],
   "source": [
    "logistic_model_new = logreg.fit(train_x_os, train_y_os)\n",
    "logistic_classification = logistic_model_new.predict(test_x_os)"
   ]
  },
  {
   "cell_type": "code",
   "execution_count": 165,
   "metadata": {},
   "outputs": [
    {
     "data": {
      "text/html": [
       "<div>\n",
       "<style scoped>\n",
       "    .dataframe tbody tr th:only-of-type {\n",
       "        vertical-align: middle;\n",
       "    }\n",
       "\n",
       "    .dataframe tbody tr th {\n",
       "        vertical-align: top;\n",
       "    }\n",
       "\n",
       "    .dataframe thead th {\n",
       "        text-align: right;\n",
       "    }\n",
       "</style>\n",
       "<table border=\"1\" class=\"dataframe\">\n",
       "  <thead>\n",
       "    <tr style=\"text-align: right;\">\n",
       "      <th>pred</th>\n",
       "      <th>0</th>\n",
       "      <th>1</th>\n",
       "    </tr>\n",
       "    <tr>\n",
       "      <th>actual</th>\n",
       "      <th></th>\n",
       "      <th></th>\n",
       "    </tr>\n",
       "  </thead>\n",
       "  <tbody>\n",
       "    <tr>\n",
       "      <th>0</th>\n",
       "      <td>1293</td>\n",
       "      <td>829</td>\n",
       "    </tr>\n",
       "    <tr>\n",
       "      <th>1</th>\n",
       "      <td>574</td>\n",
       "      <td>1692</td>\n",
       "    </tr>\n",
       "  </tbody>\n",
       "</table>\n",
       "</div>"
      ],
      "text/plain": [
       "pred       0     1\n",
       "actual            \n",
       "0       1293   829\n",
       "1        574  1692"
      ]
     },
     "execution_count": 165,
     "metadata": {},
     "output_type": "execute_result"
    }
   ],
   "source": [
    "logistic_df = pd.DataFrame({\n",
    "    'actual': test_y_os,\n",
    "    'pred' :logistic_classification\n",
    "})\n",
    "pd.crosstab(logistic_df['actual'], logistic_df['pred'])"
   ]
  },
  {
   "cell_type": "code",
   "execution_count": 166,
   "metadata": {},
   "outputs": [
    {
     "name": "stdout",
     "output_type": "stream",
     "text": [
      "              precision    recall  f1-score   support\n",
      "\n",
      "           0       0.69      0.61      0.65      2122\n",
      "           1       0.67      0.75      0.71      2266\n",
      "\n",
      "    accuracy                           0.68      4388\n",
      "   macro avg       0.68      0.68      0.68      4388\n",
      "weighted avg       0.68      0.68      0.68      4388\n",
      "\n"
     ]
    }
   ],
   "source": [
    "print(classification_report(test_y_os,logistic_classification))"
   ]
  },
  {
   "cell_type": "markdown",
   "metadata": {},
   "source": [
    "## Feature importance through Logistic Regression "
   ]
  },
  {
   "cell_type": "code",
   "execution_count": 167,
   "metadata": {},
   "outputs": [
    {
     "data": {
      "text/plain": [
       "<Figure size 1440x576 with 0 Axes>"
      ]
     },
     "execution_count": 167,
     "metadata": {},
     "output_type": "execute_result"
    },
    {
     "data": {
      "text/plain": [
       "<AxesSubplot:xlabel='Coeff', ylabel='value'>"
      ]
     },
     "execution_count": 167,
     "metadata": {},
     "output_type": "execute_result"
    },
    {
     "data": {
      "text/plain": [
       "(array([ 0,  1,  2,  3,  4,  5,  6,  7,  8,  9, 10, 11, 12, 13, 14, 15, 16,\n",
       "        17, 18, 19, 20, 21, 22, 23, 24, 25, 26, 27, 28, 29, 30, 31]),\n",
       " [Text(0, 0, 'Notice period'),\n",
       "  Text(1, 0, 'Rex in Yrs'),\n",
       "  Text(2, 0, 'Gender'),\n",
       "  Text(3, 0, 'DOJ Extended'),\n",
       "  Text(4, 0, 'Location Enc_B'),\n",
       "  Text(5, 0, 'Location Enc_K'),\n",
       "  Text(6, 0, 'Duration to accept offer'),\n",
       "  Text(7, 0, 'Location Enc_D'),\n",
       "  Text(8, 0, 'LOB_EAS'),\n",
       "  Text(9, 0, 'Location Enc_E'),\n",
       "  Text(10, 0, 'Joining Bonus'),\n",
       "  Text(11, 0, 'Candidate Source_Direct'),\n",
       "  Text(12, 0, 'Location Enc_G'),\n",
       "  Text(13, 0, 'Location Enc_C'),\n",
       "  Text(14, 0, 'LOB_ERS'),\n",
       "  Text(15, 0, 'LOB_CSMP'),\n",
       "  Text(16, 0, 'LOB_BFSI'),\n",
       "  Text(17, 0, 'Location Enc_F'),\n",
       "  Text(18, 0, 'Offered band_E2'),\n",
       "  Text(19, 0, 'Location Enc_J'),\n",
       "  Text(20, 0, 'LOB_ETS'),\n",
       "  Text(21, 0, 'Candidate Source_Employee Referral'),\n",
       "  Text(22, 0, 'Offered band_E1'),\n",
       "  Text(23, 0, 'Offered band_E3'),\n",
       "  Text(24, 0, 'LOB_Healthcare'),\n",
       "  Text(25, 0, 'Location Enc_I'),\n",
       "  Text(26, 0, 'Location Enc_H'),\n",
       "  Text(27, 0, 'LOB_INFRA'),\n",
       "  Text(28, 0, 'Percent difference CTC'),\n",
       "  Text(29, 0, 'Age'),\n",
       "  Text(30, 0, 'LOB_MMS'),\n",
       "  Text(31, 0, 'Candidate relocate actual')])"
      ]
     },
     "execution_count": 167,
     "metadata": {},
     "output_type": "execute_result"
    },
    {
     "data": {
      "image/png": "[encoded data removed]",
      "text/plain": [
       "<Figure size 1440x576 with 1 Axes>"
      ]
     },
     "metadata": {
      "needs_background": "light"
     },
     "output_type": "display_data"
    }
   ],
   "source": [
    "plt.figure(figsize = (20,8))\n",
    "coeff_df = pd.DataFrame([])\n",
    "coeff_df['Coeff'] = train_x_os.columns\n",
    "coeff_df['value'] = logistic_model_new.coef_.flatten()\n",
    "coeff_df.sort_values(by = 'value', ascending = False , inplace = True)\n",
    "sn.barplot(x = coeff_df['Coeff'], y = coeff_df['value'])\n",
    "plt.xticks(rotation = '90')"
   ]
  },
  {
   "cell_type": "markdown",
   "metadata": {},
   "source": [
    "We can see that the parameters like Notice Period, Relevant work experience positively impacts the  <B>Not Joining</B> probability. Whereas, variables like Candidate has to relocate for the job, and % difference in CTC negatively impacts it. "
   ]
  },
  {
   "cell_type": "markdown",
   "metadata": {},
   "source": [
    "# Lets Explore other set of models "
   ]
  },
  {
   "cell_type": "markdown",
   "metadata": {},
   "source": [
    "### K Near Neighbours "
   ]
  },
  {
   "cell_type": "code",
   "execution_count": 197,
   "metadata": {},
   "outputs": [],
   "source": [
    "## Importing the Classifier\n",
    "from sklearn.neighbors import KNeighborsClassifier\n",
    "\n",
    "## Lets use the Grid Search CV to fine tune the value of K\n",
    "from sklearn.model_selection import GridSearchCV\n",
    "## Creating the grid parameters to iterate in the model\n",
    "tuned_parameters = { 'n_neighbors' : range(2,10)\n",
    "                   }\n",
    "## Defining an instance of the GridSearchCV method\n",
    "K_neigh = KNeighborsClassifier()\n",
    "clf = GridSearchCV(estimator=K_neigh,\n",
    "             param_grid= tuned_parameters, \n",
    "             scoring= 'recall', \n",
    "             cv = 10, )"
   ]
  },
  {
   "cell_type": "markdown",
   "metadata": {},
   "source": [
    "Fitting on the entire raw data (without SMOTE)  "
   ]
  },
  {
   "cell_type": "code",
   "execution_count": 195,
   "metadata": {},
   "outputs": [
    {
     "data": {
      "text/plain": [
       "GridSearchCV(cv=10, estimator=KNeighborsClassifier(),\n",
       "             param_grid={'n_neighbors': range(2, 10)}, scoring='accuracy')"
      ]
     },
     "execution_count": 195,
     "metadata": {},
     "output_type": "execute_result"
    }
   ],
   "source": [
    "clf.fit(ind, dep)"
   ]
  },
  {
   "cell_type": "code",
   "execution_count": 196,
   "metadata": {},
   "outputs": [
    {
     "data": {
      "text/plain": [
       "{'n_neighbors': 8}"
      ]
     },
     "execution_count": 196,
     "metadata": {},
     "output_type": "execute_result"
    },
    {
     "data": {
      "text/plain": [
       "0.808893338277098"
      ]
     },
     "execution_count": 196,
     "metadata": {},
     "output_type": "execute_result"
    }
   ],
   "source": [
    "## Looking at the best fit model\n",
    "## For the training dataset, it is giving us a recall of 25% which is bad\n",
    "clf.best_params_\n",
    "clf.best_score_"
   ]
  },
  {
   "cell_type": "code",
   "execution_count": 147,
   "metadata": {},
   "outputs": [
    {
     "data": {
      "text/plain": [
       "KNeighborsClassifier(n_neighbors=3)"
      ]
     },
     "execution_count": 147,
     "metadata": {},
     "output_type": "execute_result"
    }
   ],
   "source": [
    "## Once we have figured out the best parameters lets try to run the model on train and test data and train data\n",
    "K_neigh = KNeighborsClassifier(n_neighbors= 3)\n",
    "K_neigh.fit(train_x, train_y)\n",
    "K_neigh_predicted = K_neigh.predict(test_x)"
   ]
  },
  {
   "cell_type": "code",
   "execution_count": 148,
   "metadata": {},
   "outputs": [
    {
     "name": "stdout",
     "output_type": "stream",
     "text": [
      "              precision    recall  f1-score   support\n",
      "\n",
      "           0       0.83      0.91      0.87      2172\n",
      "           1       0.41      0.25      0.31       527\n",
      "\n",
      "    accuracy                           0.78      2699\n",
      "   macro avg       0.62      0.58      0.59      2699\n",
      "weighted avg       0.75      0.78      0.76      2699\n",
      "\n"
     ]
    }
   ],
   "source": [
    "print(classification_report(test_y,K_neigh_predicted))\n",
    "## We can see that K_neighbour works better than logistic on the overall data but these performance \n",
    "## metrics are still low"
   ]
  },
  {
   "cell_type": "markdown",
   "metadata": {},
   "source": [
    "## Let's do it for the Over Sampled data "
   ]
  },
  {
   "cell_type": "code",
   "execution_count": 149,
   "metadata": {},
   "outputs": [
    {
     "data": {
      "text/plain": [
       "GridSearchCV(cv=10, estimator=KNeighborsClassifier(),\n",
       "             param_grid={'n_neighbors': range(2, 10)}, scoring='recall')"
      ]
     },
     "execution_count": 149,
     "metadata": {},
     "output_type": "execute_result"
    },
    {
     "data": {
      "text/plain": [
       "{'n_neighbors': 5}"
      ]
     },
     "execution_count": 149,
     "metadata": {},
     "output_type": "execute_result"
    },
    {
     "data": {
      "text/plain": [
       "0.9008510686012874"
      ]
     },
     "execution_count": 149,
     "metadata": {},
     "output_type": "execute_result"
    }
   ],
   "source": [
    "clf.fit(os_data_x, os_data_y)\n",
    "clf.best_params_\n",
    "clf.best_score_"
   ]
  },
  {
   "cell_type": "code",
   "execution_count": 150,
   "metadata": {},
   "outputs": [
    {
     "data": {
      "text/plain": [
       "KNeighborsClassifier()"
      ]
     },
     "execution_count": 150,
     "metadata": {},
     "output_type": "execute_result"
    },
    {
     "name": "stdout",
     "output_type": "stream",
     "text": [
      "              precision    recall  f1-score   support\n",
      "\n",
      "           0       0.83      0.66      0.73      2122\n",
      "           1       0.73      0.88      0.80      2266\n",
      "\n",
      "    accuracy                           0.77      4388\n",
      "   macro avg       0.78      0.77      0.77      4388\n",
      "weighted avg       0.78      0.77      0.77      4388\n",
      "\n"
     ]
    }
   ],
   "source": [
    "## Once we have figured out the best parameters lets try to run the model on train and test data\n",
    "K_neigh = KNeighborsClassifier(n_neighbors= 5)\n",
    "K_neigh.fit(train_x_os, train_y_os)\n",
    "K_neigh_predicted = K_neigh.predict(test_x_os)\n",
    "\n",
    "print(classification_report(test_y_os,K_neigh_predicted))\n"
   ]
  },
  {
   "cell_type": "markdown",
   "metadata": {},
   "source": [
    "K near neighbours works better than the logistic regression as it improves both the recall and precision of the class "
   ]
  },
  {
   "cell_type": "markdown",
   "metadata": {},
   "source": [
    "# Using Decision Tree for Classification  "
   ]
  },
  {
   "cell_type": "code",
   "execution_count": 151,
   "metadata": {},
   "outputs": [
    {
     "data": {
      "text/plain": [
       "GridSearchCV(cv=10, estimator=DecisionTreeClassifier(random_state=16),\n",
       "             param_grid={'ccp_alpha': [0.005, 0.01, 0.02, 0.03, 0.04, 0.05],\n",
       "                         'criterion': ['gini', 'entropy'],\n",
       "                         'max_depth': range(2, 10)},\n",
       "             scoring='recall')"
      ]
     },
     "execution_count": 151,
     "metadata": {},
     "output_type": "execute_result"
    },
    {
     "data": {
      "text/plain": [
       "{'ccp_alpha': 0.01, 'criterion': 'entropy', 'max_depth': 5}"
      ]
     },
     "execution_count": 151,
     "metadata": {},
     "output_type": "execute_result"
    },
    {
     "data": {
      "text/plain": [
       "0.8268690243920671"
      ]
     },
     "execution_count": 151,
     "metadata": {},
     "output_type": "execute_result"
    }
   ],
   "source": [
    "from sklearn.tree import DecisionTreeClassifier\n",
    "## Creating the grid parameters to iterate in the model\n",
    "tuned_parameters = { 'criterion' : ['gini' , 'entropy'] ,\n",
    "                     'max_depth' : range(2,10),\n",
    "                     'ccp_alpha' : [0.005,0.01,0.02,0.03,0.04,0.05]\n",
    "                   }\n",
    "## Defining an instance of the GridSearchCV method\n",
    "clf_tree = DecisionTreeClassifier(random_state= 16)\n",
    "clf = GridSearchCV(estimator=clf_tree,\n",
    "             param_grid= tuned_parameters, \n",
    "             scoring= 'recall', \n",
    "             cv = 10)\n",
    "\n",
    "## Let's fit the model now\n",
    "clf.fit(os_data_x,os_data_y)\n",
    "## Looking at the best fit model\n",
    "clf.best_params_\n",
    "clf.best_score_"
   ]
  },
  {
   "cell_type": "code",
   "execution_count": 152,
   "metadata": {},
   "outputs": [
    {
     "data": {
      "text/plain": [
       "DecisionTreeClassifier(ccp_alpha=0.01, criterion='entropy', max_depth=5)"
      ]
     },
     "execution_count": 152,
     "metadata": {},
     "output_type": "execute_result"
    },
    {
     "name": "stdout",
     "output_type": "stream",
     "text": [
      "              precision    recall  f1-score   support\n",
      "\n",
      "           0       0.74      0.56      0.64      2122\n",
      "           1       0.66      0.82      0.73      2266\n",
      "\n",
      "    accuracy                           0.69      4388\n",
      "   macro avg       0.70      0.69      0.68      4388\n",
      "weighted avg       0.70      0.69      0.69      4388\n",
      "\n"
     ]
    }
   ],
   "source": [
    "## We now know the optimal parameters, so we will instance a new model with these parameters\n",
    "DT_classifier = DecisionTreeClassifier(criterion= 'entropy', max_depth=5,ccp_alpha= 0.01)\n",
    "DT_classifier.fit(train_x_os,train_y_os)\n",
    "DTpredition = DT_classifier.predict(test_x_os)  \n",
    "\n",
    "print(classification_report(test_y_os,DTpredition))"
   ]
  },
  {
   "cell_type": "code",
   "execution_count": 153,
   "metadata": {},
   "outputs": [],
   "source": [
    "import os\n",
    "os.environ[\"PATH\"] += os.pathsep + 'C:\\Program Files (x86)\\Graphviz2.38/bin/'"
   ]
  },
  {
   "cell_type": "code",
   "execution_count": 154,
   "metadata": {},
   "outputs": [
    {
     "data": {
      "image/png": "[encoded data removed]",
      "text/plain": [
       "<IPython.core.display.Image object>"
      ]
     },
     "execution_count": 154,
     "metadata": {},
     "output_type": "execute_result"
    }
   ],
   "source": [
    "from six import StringIO  \n",
    "from IPython.display import Image  \n",
    "from sklearn.tree import export_graphviz\n",
    "import pydotplus\n",
    "dot_data = StringIO()\n",
    "export_graphviz(DT_classifier, out_file=dot_data,  \n",
    "                filled=True, rounded=True,\n",
    "                special_characters=True,\n",
    "               feature_names= train_x.columns , rotate = True)\n",
    "graph = pydotplus.graph_from_dot_data(dot_data.getvalue())  \n",
    "Image(graph.create_png())"
   ]
  },
  {
   "cell_type": "code",
   "execution_count": 156,
   "metadata": {},
   "outputs": [
    {
     "data": {
      "text/plain": [
       "<Figure size 864x576 with 0 Axes>"
      ]
     },
     "execution_count": 156,
     "metadata": {},
     "output_type": "execute_result"
    },
    {
     "data": {
      "text/plain": [
       "<BarContainer object of 32 artists>"
      ]
     },
     "execution_count": 156,
     "metadata": {},
     "output_type": "execute_result"
    },
    {
     "data": {
      "text/plain": [
       "([0,\n",
       "  1,\n",
       "  2,\n",
       "  3,\n",
       "  4,\n",
       "  5,\n",
       "  6,\n",
       "  7,\n",
       "  8,\n",
       "  9,\n",
       "  10,\n",
       "  11,\n",
       "  12,\n",
       "  13,\n",
       "  14,\n",
       "  15,\n",
       "  16,\n",
       "  17,\n",
       "  18,\n",
       "  19,\n",
       "  20,\n",
       "  21,\n",
       "  22,\n",
       "  23,\n",
       "  24,\n",
       "  25,\n",
       "  26,\n",
       "  27,\n",
       "  28,\n",
       "  29,\n",
       "  30,\n",
       "  31],\n",
       " [Text(0, 0, ''),\n",
       "  Text(0, 0, ''),\n",
       "  Text(0, 0, ''),\n",
       "  Text(0, 0, ''),\n",
       "  Text(0, 0, ''),\n",
       "  Text(0, 0, ''),\n",
       "  Text(0, 0, ''),\n",
       "  Text(0, 0, ''),\n",
       "  Text(0, 0, ''),\n",
       "  Text(0, 0, ''),\n",
       "  Text(0, 0, ''),\n",
       "  Text(0, 0, ''),\n",
       "  Text(0, 0, ''),\n",
       "  Text(0, 0, ''),\n",
       "  Text(0, 0, ''),\n",
       "  Text(0, 0, ''),\n",
       "  Text(0, 0, ''),\n",
       "  Text(0, 0, ''),\n",
       "  Text(0, 0, ''),\n",
       "  Text(0, 0, ''),\n",
       "  Text(0, 0, ''),\n",
       "  Text(0, 0, ''),\n",
       "  Text(0, 0, ''),\n",
       "  Text(0, 0, ''),\n",
       "  Text(0, 0, ''),\n",
       "  Text(0, 0, ''),\n",
       "  Text(0, 0, ''),\n",
       "  Text(0, 0, ''),\n",
       "  Text(0, 0, ''),\n",
       "  Text(0, 0, ''),\n",
       "  Text(0, 0, ''),\n",
       "  Text(0, 0, '')])"
      ]
     },
     "execution_count": 156,
     "metadata": {},
     "output_type": "execute_result"
    },
    {
     "data": {
      "image/png": "[encoded data removed]",
      "text/plain": [
       "<Figure size 864x576 with 1 Axes>"
      ]
     },
     "metadata": {
      "needs_background": "light"
     },
     "output_type": "display_data"
    }
   ],
   "source": [
    "plt.figure(figsize = (12,8))\n",
    "importance = DT_classifier.feature_importances_\n",
    "# plot feature importance\n",
    "plt.bar([x for x in list(os_data_x.columns)], importance)\n",
    "plt.xticks(rotation=  '90')\n",
    "plt.show()"
   ]
  },
  {
   "cell_type": "markdown",
   "metadata": {},
   "source": [
    "# Random Forest"
   ]
  },
  {
   "cell_type": "code",
   "execution_count": 157,
   "metadata": {},
   "outputs": [
    {
     "data": {
      "text/plain": [
       "GridSearchCV(cv=10, estimator=RandomForestClassifier(random_state=16),\n",
       "             param_grid={'criterion': ['gini'],\n",
       "                         'max_features': [2, 3, 4, 5, 6, 7, 31],\n",
       "                         'n_estimators': [200, 300, 400, 500, 600, 700]},\n",
       "             scoring='recall')"
      ]
     },
     "execution_count": 157,
     "metadata": {},
     "output_type": "execute_result"
    },
    {
     "data": {
      "text/plain": [
       "{'criterion': 'gini', 'max_features': 2, 'n_estimators': 600}"
      ]
     },
     "execution_count": 157,
     "metadata": {},
     "output_type": "execute_result"
    },
    {
     "data": {
      "text/plain": [
       "0.884144035044441"
      ]
     },
     "execution_count": 157,
     "metadata": {},
     "output_type": "execute_result"
    }
   ],
   "source": [
    "from sklearn.ensemble import RandomForestClassifier\n",
    "\n",
    "## Creating the grid parameters to iterate in the model\n",
    "tuned_parameters = { 'criterion' : ['gini'] ,\n",
    "                     \n",
    "                    'max_features': [2,3,4,5,6,7, 31],\n",
    "                    'n_estimators': [200,300,400,500,600,700]\n",
    "                   }\n",
    "## Defining an instance of the GridSearchCV method\n",
    "clf_tree = RandomForestClassifier(random_state= 16)\n",
    "clf = GridSearchCV(estimator=clf_tree,\n",
    "             param_grid= tuned_parameters, \n",
    "             scoring= 'recall', \n",
    "             cv = 10)\n",
    "\n",
    "## Let's fit the model now\n",
    "clf.fit(os_data_x,os_data_y)\n",
    "## Looking at the best fit model\n",
    "clf.best_params_\n",
    "clf.best_score_"
   ]
  },
  {
   "cell_type": "code",
   "execution_count": 158,
   "metadata": {},
   "outputs": [
    {
     "data": {
      "text/plain": [
       "RandomForestClassifier(max_features=2, n_estimators=600, random_state=15)"
      ]
     },
     "execution_count": 158,
     "metadata": {},
     "output_type": "execute_result"
    },
    {
     "name": "stdout",
     "output_type": "stream",
     "text": [
      "              precision    recall  f1-score   support\n",
      "\n",
      "           0       0.87      0.86      0.87      2122\n",
      "           1       0.87      0.88      0.88      2266\n",
      "\n",
      "    accuracy                           0.87      4388\n",
      "   macro avg       0.87      0.87      0.87      4388\n",
      "weighted avg       0.87      0.87      0.87      4388\n",
      "\n"
     ]
    }
   ],
   "source": [
    "\n",
    "## We now know the optimal parameters, so we will instance a new model with these parameters\n",
    "RF_classifier = RandomForestClassifier(criterion= 'gini',max_features = 2 , n_estimators = 600,random_state=15)\n",
    "RF_classifier.fit(train_x_os,train_y_os)\n",
    "RFpredition = RF_classifier.predict(test_x_os)  \n",
    "\n",
    "print(classification_report(test_y_os,RFpredition))"
   ]
  },
  {
   "cell_type": "code",
   "execution_count": 160,
   "metadata": {},
   "outputs": [
    {
     "data": {
      "text/plain": [
       "<Figure size 1080x576 with 0 Axes>"
      ]
     },
     "execution_count": 160,
     "metadata": {},
     "output_type": "execute_result"
    },
    {
     "data": {
      "text/plain": [
       "<BarContainer object of 32 artists>"
      ]
     },
     "execution_count": 160,
     "metadata": {},
     "output_type": "execute_result"
    },
    {
     "data": {
      "text/plain": [
       "([0,\n",
       "  1,\n",
       "  2,\n",
       "  3,\n",
       "  4,\n",
       "  5,\n",
       "  6,\n",
       "  7,\n",
       "  8,\n",
       "  9,\n",
       "  10,\n",
       "  11,\n",
       "  12,\n",
       "  13,\n",
       "  14,\n",
       "  15,\n",
       "  16,\n",
       "  17,\n",
       "  18,\n",
       "  19,\n",
       "  20,\n",
       "  21,\n",
       "  22,\n",
       "  23,\n",
       "  24,\n",
       "  25,\n",
       "  26,\n",
       "  27,\n",
       "  28,\n",
       "  29,\n",
       "  30,\n",
       "  31],\n",
       " [Text(0, 0, ''),\n",
       "  Text(0, 0, ''),\n",
       "  Text(0, 0, ''),\n",
       "  Text(0, 0, ''),\n",
       "  Text(0, 0, ''),\n",
       "  Text(0, 0, ''),\n",
       "  Text(0, 0, ''),\n",
       "  Text(0, 0, ''),\n",
       "  Text(0, 0, ''),\n",
       "  Text(0, 0, ''),\n",
       "  Text(0, 0, ''),\n",
       "  Text(0, 0, ''),\n",
       "  Text(0, 0, ''),\n",
       "  Text(0, 0, ''),\n",
       "  Text(0, 0, ''),\n",
       "  Text(0, 0, ''),\n",
       "  Text(0, 0, ''),\n",
       "  Text(0, 0, ''),\n",
       "  Text(0, 0, ''),\n",
       "  Text(0, 0, ''),\n",
       "  Text(0, 0, ''),\n",
       "  Text(0, 0, ''),\n",
       "  Text(0, 0, ''),\n",
       "  Text(0, 0, ''),\n",
       "  Text(0, 0, ''),\n",
       "  Text(0, 0, ''),\n",
       "  Text(0, 0, ''),\n",
       "  Text(0, 0, ''),\n",
       "  Text(0, 0, ''),\n",
       "  Text(0, 0, ''),\n",
       "  Text(0, 0, ''),\n",
       "  Text(0, 0, '')])"
      ]
     },
     "execution_count": 160,
     "metadata": {},
     "output_type": "execute_result"
    },
    {
     "data": {
      "image/png": "[encoded data removed]",
      "text/plain": [
       "<Figure size 1080x576 with 1 Axes>"
      ]
     },
     "metadata": {
      "needs_background": "light"
     },
     "output_type": "display_data"
    }
   ],
   "source": [
    "plt.figure(figsize = (15,8))\n",
    "importance = RF_classifier.feature_importances_\n",
    "# plot feature importance\n",
    "plt.bar([x for x in list(os_data_x.columns)], importance)\n",
    "plt.xticks(rotation=  '90')\n",
    "plt.show()"
   ]
  },
  {
   "cell_type": "markdown",
   "metadata": {},
   "source": [
    "# Bagging "
   ]
  },
  {
   "cell_type": "code",
   "execution_count": 159,
   "metadata": {},
   "outputs": [
    {
     "data": {
      "text/plain": [
       "RandomForestClassifier(max_features=32, n_estimators=600, random_state=15)"
      ]
     },
     "execution_count": 159,
     "metadata": {},
     "output_type": "execute_result"
    },
    {
     "name": "stdout",
     "output_type": "stream",
     "text": [
      "              precision    recall  f1-score   support\n",
      "\n",
      "           0       0.85      0.88      0.86      2122\n",
      "           1       0.88      0.85      0.87      2266\n",
      "\n",
      "    accuracy                           0.87      4388\n",
      "   macro avg       0.87      0.87      0.87      4388\n",
      "weighted avg       0.87      0.87      0.87      4388\n",
      "\n"
     ]
    }
   ],
   "source": [
    "## We now know the optimal parameters, so we will instance a new model with these parameters\n",
    "RF_classifier = RandomForestClassifier(criterion= 'gini',max_features = 32 , n_estimators = 600,random_state=15)\n",
    "RF_classifier.fit(train_x_os,train_y_os)\n",
    "RFpredition = RF_classifier.predict(test_x_os)  \n",
    "\n",
    "print(classification_report(test_y_os,RFpredition))"
   ]
  },
  {
   "cell_type": "code",
   "execution_count": 161,
   "metadata": {},
   "outputs": [
    {
     "data": {
      "text/plain": [
       "<Figure size 1080x576 with 0 Axes>"
      ]
     },
     "execution_count": 161,
     "metadata": {},
     "output_type": "execute_result"
    },
    {
     "data": {
      "text/plain": [
       "<BarContainer object of 32 artists>"
      ]
     },
     "execution_count": 161,
     "metadata": {},
     "output_type": "execute_result"
    },
    {
     "data": {
      "text/plain": [
       "([0,\n",
       "  1,\n",
       "  2,\n",
       "  3,\n",
       "  4,\n",
       "  5,\n",
       "  6,\n",
       "  7,\n",
       "  8,\n",
       "  9,\n",
       "  10,\n",
       "  11,\n",
       "  12,\n",
       "  13,\n",
       "  14,\n",
       "  15,\n",
       "  16,\n",
       "  17,\n",
       "  18,\n",
       "  19,\n",
       "  20,\n",
       "  21,\n",
       "  22,\n",
       "  23,\n",
       "  24,\n",
       "  25,\n",
       "  26,\n",
       "  27,\n",
       "  28,\n",
       "  29,\n",
       "  30,\n",
       "  31],\n",
       " [Text(0, 0, ''),\n",
       "  Text(0, 0, ''),\n",
       "  Text(0, 0, ''),\n",
       "  Text(0, 0, ''),\n",
       "  Text(0, 0, ''),\n",
       "  Text(0, 0, ''),\n",
       "  Text(0, 0, ''),\n",
       "  Text(0, 0, ''),\n",
       "  Text(0, 0, ''),\n",
       "  Text(0, 0, ''),\n",
       "  Text(0, 0, ''),\n",
       "  Text(0, 0, ''),\n",
       "  Text(0, 0, ''),\n",
       "  Text(0, 0, ''),\n",
       "  Text(0, 0, ''),\n",
       "  Text(0, 0, ''),\n",
       "  Text(0, 0, ''),\n",
       "  Text(0, 0, ''),\n",
       "  Text(0, 0, ''),\n",
       "  Text(0, 0, ''),\n",
       "  Text(0, 0, ''),\n",
       "  Text(0, 0, ''),\n",
       "  Text(0, 0, ''),\n",
       "  Text(0, 0, ''),\n",
       "  Text(0, 0, ''),\n",
       "  Text(0, 0, ''),\n",
       "  Text(0, 0, ''),\n",
       "  Text(0, 0, ''),\n",
       "  Text(0, 0, ''),\n",
       "  Text(0, 0, ''),\n",
       "  Text(0, 0, ''),\n",
       "  Text(0, 0, '')])"
      ]
     },
     "execution_count": 161,
     "metadata": {},
     "output_type": "execute_result"
    },
    {
     "data": {
      "image/png": "[encoded data removed]",
      "text/plain": [
       "<Figure size 1080x576 with 1 Axes>"
      ]
     },
     "metadata": {
      "needs_background": "light"
     },
     "output_type": "display_data"
    }
   ],
   "source": [
    "plt.figure(figsize = (15,8))\n",
    "importance = RF_classifier.feature_importances_\n",
    "# plot feature importance\n",
    "plt.bar([x for x in list(os_data_x.columns)], importance)\n",
    "plt.xticks(rotation=  '90')\n",
    "plt.show()"
   ]
  },
  {
   "cell_type": "markdown",
   "metadata": {},
   "source": [
    "# Boosting "
   ]
  },
  {
   "cell_type": "code",
   "execution_count": 193,
   "metadata": {},
   "outputs": [
    {
     "data": {
      "text/plain": [
       "GridSearchCV(cv=10,\n",
       "             estimator=AdaBoostClassifier(base_estimator=DecisionTreeClassifier(max_features=4),\n",
       "                                          random_state=16),\n",
       "             param_grid={'learning_rate': [0.05], 'n_estimators': [700]},\n",
       "             scoring='recall')"
      ]
     },
     "execution_count": 193,
     "metadata": {},
     "output_type": "execute_result"
    },
    {
     "data": {
      "text/plain": [
       "{'learning_rate': 0.05, 'n_estimators': 700}"
      ]
     },
     "execution_count": 193,
     "metadata": {},
     "output_type": "execute_result"
    },
    {
     "data": {
      "text/plain": [
       "0.8845570481337788"
      ]
     },
     "execution_count": 193,
     "metadata": {},
     "output_type": "execute_result"
    }
   ],
   "source": [
    "from sklearn.ensemble import AdaBoostClassifier\n",
    "\n",
    "## Creating the grid parameters to iterate in the model\n",
    "#3 It takes a lot of time to execute it so I manually fed in the values and see the movement of recall to finally decide the parameters\n",
    "tuned_parameters = {                      \n",
    "                    'learning_rate': [0.05],\n",
    "                    'n_estimators': [700]\n",
    "                   }\n",
    "## Defining an instance of the GridSearchCV method\n",
    "clf_tree = AdaBoostClassifier(base_estimator= DecisionTreeClassifier(criterion= 'gini',max_features=4) ,\n",
    "                              random_state= 16)\n",
    "clf = GridSearchCV(estimator=clf_tree,\n",
    "             param_grid= tuned_parameters, \n",
    "             scoring= 'recall', \n",
    "             cv = 10)\n",
    "\n",
    "## Let's fit the model now\n",
    "clf.fit(os_data_x,os_data_y)\n",
    "## Looking at the best fit model\n",
    "clf.best_params_\n",
    "clf.best_score_"
   ]
  },
  {
   "cell_type": "code",
   "execution_count": 198,
   "metadata": {},
   "outputs": [
    {
     "data": {
      "text/plain": [
       "AdaBoostClassifier(base_estimator=DecisionTreeClassifier(max_features=4),\n",
       "                   learning_rate=0.05, n_estimators=700, random_state=16)"
      ]
     },
     "execution_count": 198,
     "metadata": {},
     "output_type": "execute_result"
    },
    {
     "name": "stdout",
     "output_type": "stream",
     "text": [
      "              precision    recall  f1-score   support\n",
      "\n",
      "           0       0.87      0.89      0.88      2122\n",
      "           1       0.89      0.88      0.89      2266\n",
      "\n",
      "    accuracy                           0.88      4388\n",
      "   macro avg       0.88      0.88      0.88      4388\n",
      "weighted avg       0.88      0.88      0.88      4388\n",
      "\n"
     ]
    }
   ],
   "source": [
    "## We now know the optimal parameters, so we will instance a new model with these parameters\n",
    "ADABoost_classifier = AdaBoostClassifier(base_estimator=DecisionTreeClassifier(max_features=4),\n",
    "                                          random_state=16, n_estimators=700, learning_rate=0.05)\n",
    "ADABoost_classifier.fit(train_x_os,train_y_os)\n",
    "ADABoostpredition = ADABoost_classifier.predict(test_x_os)  \n",
    "\n",
    "print(classification_report(test_y_os,ADABoostpredition))"
   ]
  },
  {
   "cell_type": "code",
   "execution_count": 199,
   "metadata": {},
   "outputs": [
    {
     "data": {
      "text/plain": [
       "<Figure size 1080x576 with 0 Axes>"
      ]
     },
     "execution_count": 199,
     "metadata": {},
     "output_type": "execute_result"
    },
    {
     "name": "stderr",
     "output_type": "stream",
     "text": [
      "C:\\Users\\arora\\anaconda3\\lib\\site-packages\\sklearn\\tree\\_classes.py:600: RuntimeWarning: invalid value encountered in true_divide\n",
      "  return self.tree_.compute_feature_importances()\n"
     ]
    },
    {
     "data": {
      "text/plain": [
       "<BarContainer object of 32 artists>"
      ]
     },
     "execution_count": 199,
     "metadata": {},
     "output_type": "execute_result"
    },
    {
     "data": {
      "text/plain": [
       "([0,\n",
       "  1,\n",
       "  2,\n",
       "  3,\n",
       "  4,\n",
       "  5,\n",
       "  6,\n",
       "  7,\n",
       "  8,\n",
       "  9,\n",
       "  10,\n",
       "  11,\n",
       "  12,\n",
       "  13,\n",
       "  14,\n",
       "  15,\n",
       "  16,\n",
       "  17,\n",
       "  18,\n",
       "  19,\n",
       "  20,\n",
       "  21,\n",
       "  22,\n",
       "  23,\n",
       "  24,\n",
       "  25,\n",
       "  26,\n",
       "  27,\n",
       "  28,\n",
       "  29,\n",
       "  30,\n",
       "  31],\n",
       " [Text(0, 0, ''),\n",
       "  Text(0, 0, ''),\n",
       "  Text(0, 0, ''),\n",
       "  Text(0, 0, ''),\n",
       "  Text(0, 0, ''),\n",
       "  Text(0, 0, ''),\n",
       "  Text(0, 0, ''),\n",
       "  Text(0, 0, ''),\n",
       "  Text(0, 0, ''),\n",
       "  Text(0, 0, ''),\n",
       "  Text(0, 0, ''),\n",
       "  Text(0, 0, ''),\n",
       "  Text(0, 0, ''),\n",
       "  Text(0, 0, ''),\n",
       "  Text(0, 0, ''),\n",
       "  Text(0, 0, ''),\n",
       "  Text(0, 0, ''),\n",
       "  Text(0, 0, ''),\n",
       "  Text(0, 0, ''),\n",
       "  Text(0, 0, ''),\n",
       "  Text(0, 0, ''),\n",
       "  Text(0, 0, ''),\n",
       "  Text(0, 0, ''),\n",
       "  Text(0, 0, ''),\n",
       "  Text(0, 0, ''),\n",
       "  Text(0, 0, ''),\n",
       "  Text(0, 0, ''),\n",
       "  Text(0, 0, ''),\n",
       "  Text(0, 0, ''),\n",
       "  Text(0, 0, ''),\n",
       "  Text(0, 0, ''),\n",
       "  Text(0, 0, '')])"
      ]
     },
     "execution_count": 199,
     "metadata": {},
     "output_type": "execute_result"
    },
    {
     "data": {
      "image/png": "[encoded data removed]",
      "text/plain": [
       "<Figure size 1080x576 with 1 Axes>"
      ]
     },
     "metadata": {
      "needs_background": "light"
     },
     "output_type": "display_data"
    }
   ],
   "source": [
    "plt.figure(figsize = (15,8))\n",
    "importance = ADABoost_classifier.feature_importances_\n",
    "# plot feature importance\n",
    "plt.bar([x for x in list(os_data_x.columns)], importance)\n",
    "plt.xticks(rotation=  '90')\n",
    "plt.show()"
   ]
  }
 ],
 "metadata": {
  "colab": {
   "name": "MachineLearningProject.ipynb",
   "provenance": []
  },
  "kernelspec": {
   "display_name": "Python 3",
   "language": "python",
   "name": "python3"
  },
  "language_info": {
   "codemirror_mode": {
    "name": "ipython",
    "version": 3
   },
   "file_extension": ".py",
   "mimetype": "text/x-python",
   "name": "python",
   "nbconvert_exporter": "python",
   "pygments_lexer": "ipython3",
   "version": "3.8.8"
  }
 },
 "nbformat": 4,
 "nbformat_minor": 1
}
